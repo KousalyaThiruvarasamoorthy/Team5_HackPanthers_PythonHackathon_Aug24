{
 "cells": [
  {
   "cell_type": "code",
   "execution_count": 1,
   "id": "26bac831-6dae-4b6d-9fac-bed33dd5d990",
   "metadata": {},
   "outputs": [],
   "source": [
    "# import required libraries\n",
    "import pandas as pd\n",
    "import numpy as np\n",
    "import warnings\n",
    "warnings.filterwarnings('ignore')"
   ]
  },
  {
   "cell_type": "code",
   "execution_count": 2,
   "id": "e7a7c12b-ed5a-4f62-8f49-ddb9084e940f",
   "metadata": {},
   "outputs": [],
   "source": [
    "# read excel into dataframe\n",
    "df_Cardiorespiratory = pd.read_excel(\"V02Max_Combined.xlsx\",sheet_name=None)\n",
    "# read each sheet and store it in a dataframe\n",
    "df_Kayaking = df_Cardiorespiratory[\"Kayaking\"]\n",
    "df_Athletes = df_Cardiorespiratory[\"Athletes\"]\n",
    "df_Triathlon = df_Cardiorespiratory[\"Triathlon\"]\n",
    "df_Fencing = df_Cardiorespiratory[\"Fencing\"]"
   ]
  },
  {
   "cell_type": "markdown",
   "id": "c70a4d25-e26a-42d3-8b5b-10257fd8459e",
   "metadata": {},
   "source": [
    "### Q1.Join all sport-related tables to produce one dataframe that has all athletes values. The final table should only have the same 5 columns: ID, time,power,RR, vo2, power. Write this dataframe to an excel file.¶"
   ]
  },
  {
   "cell_type": "code",
   "execution_count": 3,
   "id": "4e518437-b6f7-425e-9dbc-1aae38947ced",
   "metadata": {},
   "outputs": [],
   "source": [
    "df_join_allsports=pd.concat([df_Kayaking, df_Triathlon,df_Fencing])\n",
    "df_join_allsports_excel=df_join_allsports.to_excel(\"Sports.xlsx\")  \n",
    "df_join_allsports_excel"
   ]
  },
  {
   "cell_type": "code",
   "execution_count": null,
   "id": "f35e8cef-90ac-4c50-abee-7c7d7876561b",
   "metadata": {},
   "outputs": [],
   "source": []
  }
 ],
 "metadata": {
  "kernelspec": {
   "display_name": "Python 3 (ipykernel)",
   "language": "python",
   "name": "python3"
  },
  "language_info": {
   "codemirror_mode": {
    "name": "ipython",
    "version": 3
   },
   "file_extension": ".py",
   "mimetype": "text/x-python",
   "name": "python",
   "nbconvert_exporter": "python",
   "pygments_lexer": "ipython3",
   "version": "3.11.5"
  }
 },
 "nbformat": 4,
 "nbformat_minor": 5
}
