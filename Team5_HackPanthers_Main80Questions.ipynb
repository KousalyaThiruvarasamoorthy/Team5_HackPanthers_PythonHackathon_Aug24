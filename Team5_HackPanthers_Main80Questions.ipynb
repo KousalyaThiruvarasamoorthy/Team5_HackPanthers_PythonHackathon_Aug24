{
 "cells": [
  {
   "cell_type": "code",
   "execution_count": 1,
   "id": "26bac831-6dae-4b6d-9fac-bed33dd5d990",
   "metadata": {},
   "outputs": [],
   "source": [
    "# import required libraries\n",
    "import pandas as pd\n",
    "import numpy as np"
   ]
  },
  {
   "cell_type": "code",
   "execution_count": null,
   "id": "e7a7c12b-ed5a-4f62-8f49-ddb9084e940f",
   "metadata": {},
   "outputs": [
    {
     "name": "stderr",
     "output_type": "stream",
     "text": [
      "C:\\Users\\avina\\anaconda3\\Lib\\site-packages\\openpyxl\\worksheet\\_read_only.py:79: UserWarning: Unknown extension is not supported and will be removed\n",
      "  for idx, row in parser.parse():\n",
      "C:\\Users\\avina\\anaconda3\\Lib\\site-packages\\openpyxl\\worksheet\\_read_only.py:79: UserWarning: Unknown extension is not supported and will be removed\n",
      "  for idx, row in parser.parse():\n"
     ]
    }
   ],
   "source": [
    "# read excel into dataframe\n",
    "df_Cardiorespiratory = pd.read_excel(\"V02Max_Combined.xlsx\",sheet_name=None)\n",
    "# read each sheet and store it in a dataframe\n",
    "df_Kayaking = df_Cardiorespiratory[\"Kayaking\"]\n",
    "df_Athletes = df_Cardiorespiratory[\"Athletes\"]\n",
    "df_Triathlon = df_Cardiorespiratory[\"Triathlon\"]\n",
    "df_Fencing = df_Cardiorespiratory[\"Fencing\"]"
   ]
  },
  {
   "cell_type": "code",
   "execution_count": null,
   "id": "818d2e15-6c1a-4d9f-9c3e-4c9e38172047",
   "metadata": {},
   "outputs": [],
   "source": []
  }
 ],
 "metadata": {
  "kernelspec": {
   "display_name": "Python 3 (ipykernel)",
   "language": "python",
   "name": "python3"
  },
  "language_info": {
   "codemirror_mode": {
    "name": "ipython",
    "version": 3
   },
   "file_extension": ".py",
   "mimetype": "text/x-python",
   "name": "python",
   "nbconvert_exporter": "python",
   "pygments_lexer": "ipython3",
   "version": "3.11.5"
  }
 },
 "nbformat": 4,
 "nbformat_minor": 5
}
