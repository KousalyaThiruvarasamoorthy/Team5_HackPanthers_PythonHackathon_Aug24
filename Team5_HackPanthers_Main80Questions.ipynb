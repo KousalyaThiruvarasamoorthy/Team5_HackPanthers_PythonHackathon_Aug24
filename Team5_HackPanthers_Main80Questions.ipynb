{
 "cells": [
  {
   "cell_type": "code",
   "execution_count": 86,
   "id": "26bac831-6dae-4b6d-9fac-bed33dd5d990",
   "metadata": {},
   "outputs": [],
   "source": [
    "# import required libraries\n",
    "import pandas as pd\n",
    "import numpy as np\n",
    "import seaborn as sns\n",
    "\n",
    "from sklearn.preprocessing import LabelEncoder\n",
    "import warnings\n",
    "warnings.filterwarnings('ignore')"
   ]
  },
  {
   "cell_type": "code",
   "execution_count": 80,
   "id": "e7a7c12b-ed5a-4f62-8f49-ddb9084e940f",
   "metadata": {},
   "outputs": [],
   "source": [
    "# read excel into dataframe\n",
    "df_Cardiorespiratory = pd.read_excel(\"V02Max_Combined.xlsx\",sheet_name=None)\n",
    "# read each sheet and store it in a dataframe\n",
    "df_Kayaking = df_Cardiorespiratory[\"Kayaking\"]\n",
    "df_Athletes = df_Cardiorespiratory[\"Athletes\"]\n",
    "df_Triathlon = df_Cardiorespiratory[\"Triathlon\"]\n",
    "df_Fencing = df_Cardiorespiratory[\"Fencing\"]"
   ]
  },
  {
   "cell_type": "markdown",
   "id": "c70a4d25-e26a-42d3-8b5b-10257fd8459e",
   "metadata": {},
   "source": [
    "### Q1.Join all sport-related tables to produce one dataframe that has all athletes values. The final table should only have the same 5 columns: ID, time,power,RR, vo2, power. Write this dataframe to an excel file.¶"
   ]
  },
  {
   "cell_type": "code",
   "execution_count": 3,
   "id": "4e518437-b6f7-425e-9dbc-1aae38947ced",
   "metadata": {},
   "outputs": [],
   "source": [
    "df_join_allsports=pd.concat([df_Kayaking, df_Triathlon,df_Fencing])\n",
    "df_join_allsports_excel=df_join_allsports.to_excel(\"Sports.xlsx\")  \n",
    "df_join_allsports_excel"
   ]
  },
  {
   "cell_type": "markdown",
   "id": "8b240345-9981-43e2-8060-974f002964e6",
   "metadata": {},
   "source": [
    "### Q2. "
   ]
  },
  {
   "cell_type": "markdown",
   "id": "50a26a2d-8edf-44ee-b5fa-a99ed5d53a7b",
   "metadata": {},
   "source": [
    "### Q3."
   ]
  },
  {
   "cell_type": "code",
   "execution_count": 1,
   "id": "d29fb5e1-ef9c-44ef-ab37-048052110baa",
   "metadata": {},
   "outputs": [],
   "source": [
    "### Q4."
   ]
  },
  {
   "cell_type": "code",
   "execution_count": 2,
   "id": "2463b8df-e780-417d-85a6-d3a3308e1440",
   "metadata": {},
   "outputs": [],
   "source": [
    "### Q5."
   ]
  },
  {
   "cell_type": "code",
   "execution_count": 3,
   "id": "d2884df8-e169-4bea-a41c-a074a94b14b0",
   "metadata": {},
   "outputs": [],
   "source": [
    "### Q6."
   ]
  },
  {
   "cell_type": "code",
   "execution_count": 4,
   "id": "d3076011-06f2-4438-9fee-9e2368d827a4",
   "metadata": {},
   "outputs": [],
   "source": [
    "### Q7."
   ]
  },
  {
   "cell_type": "code",
   "execution_count": 5,
   "id": "dc4e76c4-2688-4a13-ad23-20c76d72af05",
   "metadata": {},
   "outputs": [],
   "source": [
    "### Q8."
   ]
  },
  {
   "cell_type": "code",
   "execution_count": 6,
   "id": "16942733-147c-4575-a140-920f3ed37b28",
   "metadata": {},
   "outputs": [],
   "source": [
    "### Q9."
   ]
  },
  {
   "cell_type": "code",
   "execution_count": 7,
   "id": "b920b76e-bf9e-4b5e-80ac-6e70057664ef",
   "metadata": {},
   "outputs": [],
   "source": [
    "### Q10."
   ]
  },
  {
   "cell_type": "code",
   "execution_count": 8,
   "id": "79768e97-5adb-4f2d-af32-eb3f7baceef9",
   "metadata": {},
   "outputs": [],
   "source": [
    "### Q11."
   ]
  },
  {
   "cell_type": "code",
   "execution_count": 9,
   "id": "fef03f25-a987-48a5-9847-d4d9f785147b",
   "metadata": {},
   "outputs": [],
   "source": [
    "### Q12."
   ]
  },
  {
   "cell_type": "code",
   "execution_count": 10,
   "id": "7a56998c-a15e-41bc-b3fb-c6f64d94f3f1",
   "metadata": {},
   "outputs": [],
   "source": [
    "### Q13."
   ]
  },
  {
   "cell_type": "code",
   "execution_count": 11,
   "id": "ca526ba8-e99f-4b85-bb4f-5d0395d59bbd",
   "metadata": {},
   "outputs": [],
   "source": [
    "### Q14."
   ]
  },
  {
   "cell_type": "code",
   "execution_count": 12,
   "id": "919393cc-f592-4876-aa73-534de024575f",
   "metadata": {},
   "outputs": [],
   "source": [
    "### Q15."
   ]
  },
  {
   "cell_type": "code",
   "execution_count": 13,
   "id": "7e0f867c-c0a0-4329-9f1e-275c730b39ed",
   "metadata": {},
   "outputs": [],
   "source": [
    "### Q16."
   ]
  },
  {
   "cell_type": "code",
   "execution_count": 14,
   "id": "776eef87-a815-467c-9431-2fe5ac2364eb",
   "metadata": {},
   "outputs": [],
   "source": [
    "### Q17."
   ]
  },
  {
   "cell_type": "code",
   "execution_count": 15,
   "id": "a7812fcc-8be0-4179-880a-79a54f7579f3",
   "metadata": {},
   "outputs": [],
   "source": [
    "### Q18."
   ]
  },
  {
   "cell_type": "code",
   "execution_count": 16,
   "id": "1716b2a6-8604-4208-b365-c33da35657b4",
   "metadata": {},
   "outputs": [],
   "source": [
    "### Q19."
   ]
  },
  {
   "cell_type": "code",
   "execution_count": 17,
   "id": "21441304-5419-407f-be0c-46faaa6a8c41",
   "metadata": {},
   "outputs": [],
   "source": [
    "### Q20."
   ]
  },
  {
   "cell_type": "code",
   "execution_count": 18,
   "id": "64286e6e-1fcb-4f39-bd81-ff0bd04767fc",
   "metadata": {},
   "outputs": [],
   "source": [
    "### Q21."
   ]
  },
  {
   "cell_type": "code",
   "execution_count": 19,
   "id": "b9d0b8eb-b4e3-4cdf-b7b1-6f61ac5f175a",
   "metadata": {},
   "outputs": [],
   "source": [
    "### Q22."
   ]
  },
  {
   "cell_type": "code",
   "execution_count": 20,
   "id": "7b0d6836-8d49-4636-9f96-d73fc5c62220",
   "metadata": {},
   "outputs": [],
   "source": [
    "### Q23."
   ]
  },
  {
   "cell_type": "code",
   "execution_count": 21,
   "id": "c04be73a-0630-43bb-bcd6-abc024b098f2",
   "metadata": {},
   "outputs": [],
   "source": [
    "### Q24."
   ]
  },
  {
   "cell_type": "code",
   "execution_count": 22,
   "id": "5b9454b6-c9d5-4274-bca1-8dba4aba3267",
   "metadata": {},
   "outputs": [],
   "source": [
    "### Q25."
   ]
  },
  {
   "cell_type": "code",
   "execution_count": 23,
   "id": "9ef90d96-8883-4bfe-93a8-e35bcab1a3f3",
   "metadata": {},
   "outputs": [],
   "source": [
    "### Q26."
   ]
  },
  {
   "cell_type": "code",
   "execution_count": 24,
   "id": "ec02e45f-01f4-4dfe-adc5-f5acacb29c03",
   "metadata": {},
   "outputs": [],
   "source": [
    "### Q27."
   ]
  },
  {
   "cell_type": "code",
   "execution_count": 25,
   "id": "b8bafaa9-62bc-4cb9-939d-cb4ad5f1b613",
   "metadata": {},
   "outputs": [],
   "source": [
    "### Q28."
   ]
  },
  {
   "cell_type": "code",
   "execution_count": 26,
   "id": "0f1867bd-14c8-46da-84ba-2f1c13ea5bdb",
   "metadata": {},
   "outputs": [],
   "source": [
    "### Q29."
   ]
  },
  {
   "cell_type": "code",
   "execution_count": 27,
   "id": "9a06ad85-6a41-4e32-8e11-ba4b69b7389d",
   "metadata": {},
   "outputs": [],
   "source": [
    "### Q30."
   ]
  },
  {
   "cell_type": "code",
   "execution_count": 28,
   "id": "d731f64c-a70a-4b99-8dd4-30b9f8a5fa42",
   "metadata": {},
   "outputs": [],
   "source": [
    "### Q31."
   ]
  },
  {
   "cell_type": "code",
   "execution_count": 29,
   "id": "7a0c51b2-bcc4-4ae1-9b3d-368176faba91",
   "metadata": {},
   "outputs": [],
   "source": [
    "### Q32."
   ]
  },
  {
   "cell_type": "code",
   "execution_count": 30,
   "id": "9b5dbfd0-144c-404d-b76a-f6182fd34c86",
   "metadata": {},
   "outputs": [],
   "source": [
    "### Q33."
   ]
  },
  {
   "cell_type": "code",
   "execution_count": 31,
   "id": "075a1395-6dc8-4f85-9db3-190913c841c1",
   "metadata": {},
   "outputs": [],
   "source": [
    "### Q34."
   ]
  },
  {
   "cell_type": "code",
   "execution_count": 32,
   "id": "60225bca-fcca-4c43-8ac7-49c3b902fb45",
   "metadata": {},
   "outputs": [],
   "source": [
    "### Q35."
   ]
  },
  {
   "cell_type": "code",
   "execution_count": 33,
   "id": "6a5c19ef-e430-4aa1-b375-db2a71a7e091",
   "metadata": {},
   "outputs": [],
   "source": [
    "### Q36."
   ]
  },
  {
   "cell_type": "code",
   "execution_count": 34,
   "id": "195c852f-9598-4f78-9731-09b6e2a71779",
   "metadata": {},
   "outputs": [],
   "source": [
    "### Q37."
   ]
  },
  {
   "cell_type": "code",
   "execution_count": 35,
   "id": "fa1f2305-9a34-48e2-a0fd-dfeacecbadb2",
   "metadata": {},
   "outputs": [],
   "source": [
    "### Q38."
   ]
  },
  {
   "cell_type": "code",
   "execution_count": 36,
   "id": "2cc281fc-bcb3-4d86-ab58-7499ed9617f9",
   "metadata": {},
   "outputs": [],
   "source": [
    "### Q39."
   ]
  },
  {
   "cell_type": "code",
   "execution_count": 37,
   "id": "853aa201-53e9-4d7c-9705-b2363c9651ab",
   "metadata": {},
   "outputs": [],
   "source": [
    "### Q40."
   ]
  },
  {
   "cell_type": "code",
   "execution_count": 38,
   "id": "c4691d3e-ae8f-454c-8b74-2ebe4b454494",
   "metadata": {},
   "outputs": [],
   "source": [
    "### Q41."
   ]
  },
  {
   "cell_type": "code",
   "execution_count": 39,
   "id": "867c9f42-d95a-4b7f-95a6-3f5d83a1b516",
   "metadata": {},
   "outputs": [],
   "source": [
    "### Q42."
   ]
  },
  {
   "cell_type": "markdown",
   "id": "5f9fd813-b894-4222-aca9-deefea1f99c2",
   "metadata": {},
   "source": [
    "### Q43.Create a pivot table that shows count of patients within each age group and sport"
   ]
  },
  {
   "cell_type": "code",
   "execution_count": 82,
   "id": "e2f99f64-fff8-46e9-9dbf-aa6eb95cfe60",
   "metadata": {},
   "outputs": [
    {
     "name": "stdout",
     "output_type": "stream",
     "text": [
      "age          12    13      14      15      16            17    18\n",
      "sport triathlon kayak fencing fencing fencing kayak fencing kayak\n",
      "ID            2     2       2       4       2     1       2     3\n"
     ]
    }
   ],
   "source": [
    "pivot = pd.pivot_table(\n",
    "    df_Athletes,\n",
    "    values='ID',\n",
    "    columns=('age','sport'),\n",
    "    aggfunc='count'\n",
    ")\n",
    "print(pivot)"
   ]
  },
  {
   "cell_type": "code",
   "execution_count": 41,
   "id": "3b6baf84-3de4-41f0-9056-c4c6f5190454",
   "metadata": {},
   "outputs": [],
   "source": [
    "### Q44."
   ]
  },
  {
   "cell_type": "code",
   "execution_count": 42,
   "id": "29956d87-6d50-4337-93ff-7b135bd0f5c5",
   "metadata": {},
   "outputs": [],
   "source": [
    "### Q45."
   ]
  },
  {
   "cell_type": "code",
   "execution_count": 43,
   "id": "12d888e5-9146-4ee5-8c67-c5bf18e1b956",
   "metadata": {},
   "outputs": [],
   "source": [
    "### Q46."
   ]
  },
  {
   "cell_type": "markdown",
   "id": "21366c4e-ffd0-46bf-b270-50a55dc0b632",
   "metadata": {},
   "source": [
    "### Q47.Convert ' sport' into a numeric field through Label encoding"
   ]
  },
  {
   "cell_type": "code",
   "execution_count": 84,
   "id": "b5b2d0b2-a635-4182-87c8-5cd18c0ea9b9",
   "metadata": {},
   "outputs": [
    {
     "data": {
      "text/html": [
       "<div>\n",
       "<style scoped>\n",
       "    .dataframe tbody tr th:only-of-type {\n",
       "        vertical-align: middle;\n",
       "    }\n",
       "\n",
       "    .dataframe tbody tr th {\n",
       "        vertical-align: top;\n",
       "    }\n",
       "\n",
       "    .dataframe thead th {\n",
       "        text-align: right;\n",
       "    }\n",
       "</style>\n",
       "<table border=\"1\" class=\"dataframe\">\n",
       "  <thead>\n",
       "    <tr style=\"text-align: right;\">\n",
       "      <th></th>\n",
       "      <th>ID</th>\n",
       "      <th>age</th>\n",
       "      <th>Weight</th>\n",
       "      <th>Height</th>\n",
       "      <th>P_vt1</th>\n",
       "      <th>P_vt2</th>\n",
       "      <th>sport</th>\n",
       "      <th>Gender</th>\n",
       "      <th>Ethnicity</th>\n",
       "      <th>First Name</th>\n",
       "      <th>Last Name</th>\n",
       "    </tr>\n",
       "  </thead>\n",
       "  <tbody>\n",
       "    <tr>\n",
       "      <th>0</th>\n",
       "      <td>1</td>\n",
       "      <td>15</td>\n",
       "      <td>53.7</td>\n",
       "      <td>161</td>\n",
       "      <td>50</td>\n",
       "      <td>140</td>\n",
       "      <td>0</td>\n",
       "      <td>Female</td>\n",
       "      <td>African</td>\n",
       "      <td>Olivia</td>\n",
       "      <td>Martinez</td>\n",
       "    </tr>\n",
       "    <tr>\n",
       "      <th>1</th>\n",
       "      <td>2</td>\n",
       "      <td>15</td>\n",
       "      <td>56.2</td>\n",
       "      <td>162</td>\n",
       "      <td>80</td>\n",
       "      <td>127</td>\n",
       "      <td>0</td>\n",
       "      <td>Male</td>\n",
       "      <td>African</td>\n",
       "      <td>Ethan</td>\n",
       "      <td>Reynolds</td>\n",
       "    </tr>\n",
       "    <tr>\n",
       "      <th>2</th>\n",
       "      <td>3</td>\n",
       "      <td>16</td>\n",
       "      <td>89.9</td>\n",
       "      <td>191</td>\n",
       "      <td>155</td>\n",
       "      <td>300</td>\n",
       "      <td>0</td>\n",
       "      <td>Male</td>\n",
       "      <td>White</td>\n",
       "      <td>Jackson</td>\n",
       "      <td>Harper</td>\n",
       "    </tr>\n",
       "    <tr>\n",
       "      <th>3</th>\n",
       "      <td>4</td>\n",
       "      <td>16</td>\n",
       "      <td>76.5</td>\n",
       "      <td>180</td>\n",
       "      <td>215</td>\n",
       "      <td>275</td>\n",
       "      <td>0</td>\n",
       "      <td>Male</td>\n",
       "      <td>White</td>\n",
       "      <td>Liam</td>\n",
       "      <td>Sanchez</td>\n",
       "    </tr>\n",
       "    <tr>\n",
       "      <th>4</th>\n",
       "      <td>5</td>\n",
       "      <td>17</td>\n",
       "      <td>76.4</td>\n",
       "      <td>186</td>\n",
       "      <td>110</td>\n",
       "      <td>172</td>\n",
       "      <td>0</td>\n",
       "      <td>Female</td>\n",
       "      <td>White</td>\n",
       "      <td>Ava</td>\n",
       "      <td>Thompson</td>\n",
       "    </tr>\n",
       "    <tr>\n",
       "      <th>5</th>\n",
       "      <td>6</td>\n",
       "      <td>17</td>\n",
       "      <td>65.6</td>\n",
       "      <td>169</td>\n",
       "      <td>131</td>\n",
       "      <td>186</td>\n",
       "      <td>0</td>\n",
       "      <td>Female</td>\n",
       "      <td>White</td>\n",
       "      <td>Sophia</td>\n",
       "      <td>Rodriguez</td>\n",
       "    </tr>\n",
       "    <tr>\n",
       "      <th>6</th>\n",
       "      <td>7</td>\n",
       "      <td>15</td>\n",
       "      <td>49.8</td>\n",
       "      <td>165</td>\n",
       "      <td>65</td>\n",
       "      <td>108</td>\n",
       "      <td>0</td>\n",
       "      <td>Female</td>\n",
       "      <td>White</td>\n",
       "      <td>Grace</td>\n",
       "      <td>Simmons</td>\n",
       "    </tr>\n",
       "    <tr>\n",
       "      <th>7</th>\n",
       "      <td>8</td>\n",
       "      <td>15</td>\n",
       "      <td>51.2</td>\n",
       "      <td>165</td>\n",
       "      <td>80</td>\n",
       "      <td>133</td>\n",
       "      <td>0</td>\n",
       "      <td>Female</td>\n",
       "      <td>White</td>\n",
       "      <td>Aiden</td>\n",
       "      <td>Bennett</td>\n",
       "    </tr>\n",
       "    <tr>\n",
       "      <th>8</th>\n",
       "      <td>9</td>\n",
       "      <td>14</td>\n",
       "      <td>57.1</td>\n",
       "      <td>176</td>\n",
       "      <td>50</td>\n",
       "      <td>125</td>\n",
       "      <td>0</td>\n",
       "      <td>Female</td>\n",
       "      <td>African</td>\n",
       "      <td>Chloe</td>\n",
       "      <td>Price</td>\n",
       "    </tr>\n",
       "    <tr>\n",
       "      <th>9</th>\n",
       "      <td>10</td>\n",
       "      <td>14</td>\n",
       "      <td>58.8</td>\n",
       "      <td>177</td>\n",
       "      <td>101</td>\n",
       "      <td>162</td>\n",
       "      <td>0</td>\n",
       "      <td>Female</td>\n",
       "      <td>African</td>\n",
       "      <td>Lily</td>\n",
       "      <td>Jordan</td>\n",
       "    </tr>\n",
       "    <tr>\n",
       "      <th>10</th>\n",
       "      <td>11</td>\n",
       "      <td>18</td>\n",
       "      <td>84.8</td>\n",
       "      <td>182</td>\n",
       "      <td>174</td>\n",
       "      <td>268</td>\n",
       "      <td>1</td>\n",
       "      <td>Female</td>\n",
       "      <td>African</td>\n",
       "      <td>Isabella</td>\n",
       "      <td>Griffin</td>\n",
       "    </tr>\n",
       "    <tr>\n",
       "      <th>11</th>\n",
       "      <td>12</td>\n",
       "      <td>18</td>\n",
       "      <td>86.0</td>\n",
       "      <td>183</td>\n",
       "      <td>170</td>\n",
       "      <td>294</td>\n",
       "      <td>1</td>\n",
       "      <td>Male</td>\n",
       "      <td>African</td>\n",
       "      <td>Caleb</td>\n",
       "      <td>Dixon</td>\n",
       "    </tr>\n",
       "    <tr>\n",
       "      <th>12</th>\n",
       "      <td>13</td>\n",
       "      <td>18</td>\n",
       "      <td>83.9</td>\n",
       "      <td>183</td>\n",
       "      <td>144</td>\n",
       "      <td>267</td>\n",
       "      <td>1</td>\n",
       "      <td>Female</td>\n",
       "      <td>Asian</td>\n",
       "      <td>Mia</td>\n",
       "      <td>Carpenter</td>\n",
       "    </tr>\n",
       "    <tr>\n",
       "      <th>13</th>\n",
       "      <td>14</td>\n",
       "      <td>13</td>\n",
       "      <td>62.3</td>\n",
       "      <td>171</td>\n",
       "      <td>140</td>\n",
       "      <td>170</td>\n",
       "      <td>1</td>\n",
       "      <td>Female</td>\n",
       "      <td>Asian</td>\n",
       "      <td>Harper</td>\n",
       "      <td>Mitchell</td>\n",
       "    </tr>\n",
       "    <tr>\n",
       "      <th>14</th>\n",
       "      <td>15</td>\n",
       "      <td>13</td>\n",
       "      <td>63.5</td>\n",
       "      <td>172</td>\n",
       "      <td>125</td>\n",
       "      <td>156</td>\n",
       "      <td>1</td>\n",
       "      <td>Male</td>\n",
       "      <td>Latino</td>\n",
       "      <td>Mason</td>\n",
       "      <td>Wallace</td>\n",
       "    </tr>\n",
       "    <tr>\n",
       "      <th>15</th>\n",
       "      <td>16</td>\n",
       "      <td>16</td>\n",
       "      <td>70.4</td>\n",
       "      <td>182</td>\n",
       "      <td>79</td>\n",
       "      <td>175</td>\n",
       "      <td>1</td>\n",
       "      <td>Male</td>\n",
       "      <td>Latino</td>\n",
       "      <td>Logan</td>\n",
       "      <td>Anderson</td>\n",
       "    </tr>\n",
       "    <tr>\n",
       "      <th>16</th>\n",
       "      <td>17</td>\n",
       "      <td>12</td>\n",
       "      <td>39.9</td>\n",
       "      <td>156</td>\n",
       "      <td>101</td>\n",
       "      <td>145</td>\n",
       "      <td>2</td>\n",
       "      <td>Male</td>\n",
       "      <td>Latino</td>\n",
       "      <td>Lucas</td>\n",
       "      <td>Foster</td>\n",
       "    </tr>\n",
       "    <tr>\n",
       "      <th>17</th>\n",
       "      <td>18</td>\n",
       "      <td>12</td>\n",
       "      <td>39.7</td>\n",
       "      <td>158</td>\n",
       "      <td>65</td>\n",
       "      <td>168</td>\n",
       "      <td>2</td>\n",
       "      <td>Male</td>\n",
       "      <td>Latino</td>\n",
       "      <td>Owen</td>\n",
       "      <td>Myers</td>\n",
       "    </tr>\n",
       "  </tbody>\n",
       "</table>\n",
       "</div>"
      ],
      "text/plain": [
       "    ID  age  Weight  Height  P_vt1  P_vt2  sport  Gender Ethnicity First Name  \\\n",
       "0    1   15    53.7     161     50    140      0  Female   African     Olivia   \n",
       "1    2   15    56.2     162     80    127      0    Male   African      Ethan   \n",
       "2    3   16    89.9     191    155    300      0    Male     White    Jackson   \n",
       "3    4   16    76.5     180    215    275      0    Male     White       Liam   \n",
       "4    5   17    76.4     186    110    172      0  Female     White        Ava   \n",
       "5    6   17    65.6     169    131    186      0  Female     White     Sophia   \n",
       "6    7   15    49.8     165     65    108      0  Female     White      Grace   \n",
       "7    8   15    51.2     165     80    133      0  Female     White      Aiden   \n",
       "8    9   14    57.1     176     50    125      0  Female   African      Chloe   \n",
       "9   10   14    58.8     177    101    162      0  Female   African       Lily   \n",
       "10  11   18    84.8     182    174    268      1  Female   African   Isabella   \n",
       "11  12   18    86.0     183    170    294      1    Male   African      Caleb   \n",
       "12  13   18    83.9     183    144    267      1  Female     Asian        Mia   \n",
       "13  14   13    62.3     171    140    170      1  Female     Asian     Harper   \n",
       "14  15   13    63.5     172    125    156      1    Male    Latino      Mason   \n",
       "15  16   16    70.4     182     79    175      1    Male    Latino      Logan   \n",
       "16  17   12    39.9     156    101    145      2    Male    Latino      Lucas   \n",
       "17  18   12    39.7     158     65    168      2    Male    Latino       Owen   \n",
       "\n",
       "    Last Name  \n",
       "0    Martinez  \n",
       "1    Reynolds  \n",
       "2      Harper  \n",
       "3     Sanchez  \n",
       "4    Thompson  \n",
       "5   Rodriguez  \n",
       "6     Simmons  \n",
       "7     Bennett  \n",
       "8       Price  \n",
       "9      Jordan  \n",
       "10    Griffin  \n",
       "11      Dixon  \n",
       "12  Carpenter  \n",
       "13   Mitchell  \n",
       "14    Wallace  \n",
       "15   Anderson  \n",
       "16     Foster  \n",
       "17      Myers  "
      ]
     },
     "execution_count": 84,
     "metadata": {},
     "output_type": "execute_result"
    }
   ],
   "source": [
    "\n",
    "le=LabelEncoder()\n",
    "df_Athletes['sport']=le.fit_transform(df_Athletes['sport'])\n",
    "df_Athletes"
   ]
  },
  {
   "cell_type": "markdown",
   "id": "f49d044f-fca2-4742-8ff3-2fdf64cecd5b",
   "metadata": {},
   "source": [
    "### Q48.What was the average age of the athletes?"
   ]
  },
  {
   "cell_type": "code",
   "execution_count": 85,
   "id": "9e8a4788-8199-420a-b467-ebc1fdc9706b",
   "metadata": {},
   "outputs": [
    {
     "data": {
      "text/plain": [
       "15.222222222222221"
      ]
     },
     "execution_count": 85,
     "metadata": {},
     "output_type": "execute_result"
    }
   ],
   "source": [
    "Average_age_of_athletes = df_Athletes[\"age\"].mean()\n",
    "Average_age_of_athletes"
   ]
  },
  {
   "cell_type": "code",
   "execution_count": 46,
   "id": "45e4e860-4a9c-42f9-b686-efa209c40ef8",
   "metadata": {},
   "outputs": [],
   "source": [
    "### Q49."
   ]
  },
  {
   "cell_type": "markdown",
   "id": "464e9121-50c4-4c66-8c6f-4af5d9b3d51b",
   "metadata": {},
   "source": [
    "### Q50. Create a violin chart using any 2 columns in the dataset"
   ]
  },
  {
   "cell_type": "code",
   "execution_count": 88,
   "id": "121474c2-28f1-4bbf-afce-f2ec014f1f49",
   "metadata": {},
   "outputs": [
    {
     "data": {
      "text/plain": [
       "<Axes: xlabel='Ethnicity', ylabel='age'>"
      ]
     },
     "execution_count": 88,
     "metadata": {},
     "output_type": "execute_result"
    },
    {
     "data": {
      "image/png": "[encoded data removed]",
      "text/plain": [
       "<Figure size 640x480 with 1 Axes>"
      ]
     },
     "metadata": {},
     "output_type": "display_data"
    }
   ],
   "source": [
    "sns.violinplot( x='Ethnicity', y='age',data=df_Athletes)"
   ]
  },
  {
   "cell_type": "code",
   "execution_count": 48,
   "id": "1b19285c-08f6-4605-8a74-fbee7d9253c9",
   "metadata": {},
   "outputs": [],
   "source": [
    "### Q51."
   ]
  },
  {
   "cell_type": "code",
   "execution_count": 49,
   "id": "64be480a-ea39-496c-b91a-e85bae0a19d9",
   "metadata": {},
   "outputs": [],
   "source": [
    "### Q52."
   ]
  },
  {
   "cell_type": "markdown",
   "id": "85a2b7d3-9d66-4a3c-99c6-48895f493ab5",
   "metadata": {},
   "source": [
    "### Q53.phonebook={\"john\":938477566,\"Jack\":938377264,\"Jill\":947662781} ,find the phone number of Jill"
   ]
  },
  {
   "cell_type": "code",
   "execution_count": 89,
   "id": "166e2fff-4408-4fad-9cca-7f648cc64a01",
   "metadata": {},
   "outputs": [
    {
     "data": {
      "text/plain": [
       "947662781"
      ]
     },
     "execution_count": 89,
     "metadata": {},
     "output_type": "execute_result"
    }
   ],
   "source": [
    "phonebook={\"john\":938477566,\"Jack\":938377264,\"Jill\":947662781}\n",
    "phonebook['Jill']"
   ]
  },
  {
   "cell_type": "code",
   "execution_count": 51,
   "id": "ae1f2333-ee66-4d3f-a691-0fd2c935ac82",
   "metadata": {},
   "outputs": [],
   "source": [
    "### Q54."
   ]
  },
  {
   "cell_type": "code",
   "execution_count": 52,
   "id": "8e5a12d7-9d10-4d10-a3c9-7567618b235c",
   "metadata": {},
   "outputs": [],
   "source": [
    "### Q55."
   ]
  },
  {
   "cell_type": "markdown",
   "id": "03669857-b8f1-447d-975c-0f2d09fc2940",
   "metadata": {},
   "source": [
    "### Q56.Display a histogram to show distribution of athletes by sport."
   ]
  },
  {
   "cell_type": "code",
   "execution_count": 92,
   "id": "f9c882d4-5d9d-413a-bf51-743ff793d3c5",
   "metadata": {},
   "outputs": [
    {
     "data": {
      "text/plain": [
       "<seaborn.axisgrid.FacetGrid at 0x1938f46cbc0>"
      ]
     },
     "execution_count": 92,
     "metadata": {},
     "output_type": "execute_result"
    },
    {
     "data": {
      "image/png": "[encoded data removed]",
      "text/plain": [
       "<Figure size 500x500 with 1 Axes>"
      ]
     },
     "metadata": {},
     "output_type": "display_data"
    }
   ],
   "source": [
    "sns.displot(df_Athletes, x=\"sport\")"
   ]
  },
  {
   "cell_type": "code",
   "execution_count": 54,
   "id": "ad5b960a-5db5-4199-9eb3-bdb46dfb6320",
   "metadata": {},
   "outputs": [],
   "source": [
    "### Q57."
   ]
  },
  {
   "cell_type": "code",
   "execution_count": 55,
   "id": "b6b530d2-14b5-4a65-bcbc-8881754b5dea",
   "metadata": {},
   "outputs": [],
   "source": [
    "### Q58."
   ]
  },
  {
   "cell_type": "code",
   "execution_count": 56,
   "id": "1fa3964f-dfb8-403b-b858-d43b79673bd8",
   "metadata": {},
   "outputs": [],
   "source": [
    "### Q59."
   ]
  },
  {
   "cell_type": "code",
   "execution_count": 57,
   "id": "238c7b6e-b276-4053-b54b-f0f88776df70",
   "metadata": {},
   "outputs": [],
   "source": [
    "### Q60."
   ]
  },
  {
   "cell_type": "code",
   "execution_count": 58,
   "id": "2c30fdeb-d044-4fc2-a31c-9f31c825d447",
   "metadata": {},
   "outputs": [],
   "source": [
    "### Q61."
   ]
  },
  {
   "cell_type": "code",
   "execution_count": 59,
   "id": "156cf9b5-d368-4bcf-a18b-d310bd501470",
   "metadata": {},
   "outputs": [],
   "source": [
    "### Q62."
   ]
  },
  {
   "cell_type": "code",
   "execution_count": 60,
   "id": "ced24165-257a-4aba-89ff-6e3ffd9453fd",
   "metadata": {},
   "outputs": [],
   "source": [
    "### Q63."
   ]
  },
  {
   "cell_type": "code",
   "execution_count": 61,
   "id": "53f3bd84-90ef-4042-aa34-b5c025e65d2c",
   "metadata": {},
   "outputs": [],
   "source": [
    "### Q64."
   ]
  },
  {
   "cell_type": "code",
   "execution_count": 62,
   "id": "dbb90910-6efe-46e7-9dae-046c81257d93",
   "metadata": {},
   "outputs": [],
   "source": [
    "### Q65."
   ]
  },
  {
   "cell_type": "code",
   "execution_count": 63,
   "id": "59e09273-4279-43fb-b9b3-500b72997c3f",
   "metadata": {},
   "outputs": [],
   "source": [
    "### Q66."
   ]
  },
  {
   "cell_type": "code",
   "execution_count": 64,
   "id": "18ccda39-84a5-44e4-adc5-e7595112fcc8",
   "metadata": {},
   "outputs": [],
   "source": [
    "### Q67."
   ]
  },
  {
   "cell_type": "code",
   "execution_count": 65,
   "id": "e844051b-0af1-428f-b8bb-e86a6cfc3a4e",
   "metadata": {},
   "outputs": [],
   "source": [
    "### Q68."
   ]
  },
  {
   "cell_type": "code",
   "execution_count": 66,
   "id": "9570469e-629a-47b4-bd23-a355a1ef4f86",
   "metadata": {},
   "outputs": [],
   "source": [
    "### Q69."
   ]
  },
  {
   "cell_type": "code",
   "execution_count": 67,
   "id": "d36ab7d0-3719-459a-b4bc-953867a33099",
   "metadata": {},
   "outputs": [],
   "source": [
    "### Q70."
   ]
  },
  {
   "cell_type": "code",
   "execution_count": 68,
   "id": "f3fa1dfb-7d7a-4219-a39e-fc03c6e5ea07",
   "metadata": {},
   "outputs": [],
   "source": [
    "### Q71."
   ]
  },
  {
   "cell_type": "code",
   "execution_count": 69,
   "id": "6c250892-e261-4056-b0bf-0878ae5799e3",
   "metadata": {},
   "outputs": [],
   "source": [
    "### Q72."
   ]
  },
  {
   "cell_type": "code",
   "execution_count": 70,
   "id": "0d8c6a11-c4d1-4c2b-af26-070c436bd8de",
   "metadata": {},
   "outputs": [],
   "source": [
    "### Q73."
   ]
  },
  {
   "cell_type": "code",
   "execution_count": 71,
   "id": "049d87d6-9aad-4493-bd0e-2be7c56225c0",
   "metadata": {},
   "outputs": [],
   "source": [
    "### Q74."
   ]
  },
  {
   "cell_type": "code",
   "execution_count": 72,
   "id": "b6e285ea-a8cf-43bf-aa69-ee8d485cb787",
   "metadata": {},
   "outputs": [],
   "source": [
    "### Q75."
   ]
  },
  {
   "cell_type": "code",
   "execution_count": 73,
   "id": "f32041d4-327b-4b2c-af0c-13ef432d6459",
   "metadata": {},
   "outputs": [],
   "source": [
    "### Q76."
   ]
  },
  {
   "cell_type": "code",
   "execution_count": 74,
   "id": "5abdc0be-628e-402e-89d1-fc118df90c88",
   "metadata": {},
   "outputs": [],
   "source": [
    "### Q77."
   ]
  },
  {
   "cell_type": "code",
   "execution_count": 75,
   "id": "8e49a739-fa90-41d0-baa6-f996c4c52ed1",
   "metadata": {},
   "outputs": [],
   "source": [
    "### Q78."
   ]
  },
  {
   "cell_type": "code",
   "execution_count": 76,
   "id": "ab23f4ff-62b4-4f61-9430-77746e0b7624",
   "metadata": {},
   "outputs": [],
   "source": [
    "### Q79."
   ]
  },
  {
   "cell_type": "code",
   "execution_count": null,
   "id": "a331b5d0-9261-4794-a68f-4d48c61172a2",
   "metadata": {},
   "outputs": [],
   "source": [
    "### Q80."
   ]
  }
 ],
 "metadata": {
  "kernelspec": {
   "display_name": "Python 3 (ipykernel)",
   "language": "python",
   "name": "python3"
  },
  "language_info": {
   "codemirror_mode": {
    "name": "ipython",
    "version": 3
   },
   "file_extension": ".py",
   "mimetype": "text/x-python",
   "name": "python",
   "nbconvert_exporter": "python",
   "pygments_lexer": "ipython3",
   "version": "3.12.4"
  }
 },
 "nbformat": 4,
 "nbformat_minor": 5
}
