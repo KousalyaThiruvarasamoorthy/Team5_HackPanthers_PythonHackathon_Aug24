{
 "cells": [
  {
   "cell_type": "code",
   "execution_count": 1,
   "id": "26bac831-6dae-4b6d-9fac-bed33dd5d990",
   "metadata": {},
   "outputs": [],
   "source": [
    "# import required libraries\n",
    "from wordcloud import WordCloud\n",
    "import pandas as pd\n",
    "import numpy as np\n",
    "import seaborn as sns\n",
    "import matplotlib.pyplot as plt\n",
    "import re\n",
    "from sklearn.preprocessing import LabelEncoder\n",
    "import plotly.graph_objects as go\n",
    "import warnings\n",
    "warnings.filterwarnings('ignore')"
   ]
  },
  {
   "cell_type": "code",
   "execution_count": 2,
   "id": "e7a7c12b-ed5a-4f62-8f49-ddb9084e940f",
   "metadata": {},
   "outputs": [],
   "source": [
    "# read excel into dataframe\n",
    "df_Cardiorespiratory = pd.read_excel(\"V02Max_Combined.xlsx\",sheet_name=None)\n",
    "# read each sheet and store it in a dataframe\n",
    "df_Kayaking = df_Cardiorespiratory[\"Kayaking\"]\n",
    "df_Athletes = df_Cardiorespiratory[\"Athletes\"]\n",
    "df_Triathlon = df_Cardiorespiratory[\"Triathlon\"]\n",
    "df_Fencing = df_Cardiorespiratory[\"Fencing\"]"
   ]
  },
  {
   "cell_type": "markdown",
   "id": "c70a4d25-e26a-42d3-8b5b-10257fd8459e",
   "metadata": {},
   "source": [
    "### Q1.Join all sport-related tables to produce one dataframe that has all athletes values. The final table should only have the same 5 columns: ID, time,power,RR, vo2, power. Write this dataframe to an excel file.¶"
   ]
  },
  {
   "cell_type": "code",
   "execution_count": 3,
   "id": "4e518437-b6f7-425e-9dbc-1aae38947ced",
   "metadata": {},
   "outputs": [],
   "source": [
    "df_join_allsports=pd.concat([df_Kayaking, df_Triathlon,df_Fencing])\n",
    "df_join_allsports_excel=df_join_allsports.to_excel(\"Sports.xlsx\")  \n",
    "df_join_allsports_excel"
   ]
  },
  {
   "cell_type": "markdown",
   "id": "8b240345-9981-43e2-8060-974f002964e6",
   "metadata": {},
   "source": [
    "### Q2.Divide the rows into 3 parts: Warm up, GET(graded exercise test) and cool down using the data def. Label each row accordingly\r\n"
   ]
  },
  {
   "cell_type": "code",
   "execution_count": 4,
   "id": "15f5f086-04c3-4acd-86a9-77ff07f7f69e",
   "metadata": {},
   "outputs": [
    {
     "data": {
      "text/html": [
       "<div>\n",
       "<style scoped>\n",
       "    .dataframe tbody tr th:only-of-type {\n",
       "        vertical-align: middle;\n",
       "    }\n",
       "\n",
       "    .dataframe tbody tr th {\n",
       "        vertical-align: top;\n",
       "    }\n",
       "\n",
       "    .dataframe thead th {\n",
       "        text-align: right;\n",
       "    }\n",
       "</style>\n",
       "<table border=\"1\" class=\"dataframe\">\n",
       "  <thead>\n",
       "    <tr style=\"text-align: right;\">\n",
       "      <th></th>\n",
       "      <th>ID</th>\n",
       "      <th>time</th>\n",
       "      <th>RR</th>\n",
       "      <th>VO2</th>\n",
       "      <th>power</th>\n",
       "      <th>Status</th>\n",
       "      <th>hr</th>\n",
       "    </tr>\n",
       "  </thead>\n",
       "  <tbody>\n",
       "    <tr>\n",
       "      <th>0</th>\n",
       "      <td>11</td>\n",
       "      <td>-168.600</td>\n",
       "      <td>727.0</td>\n",
       "      <td>0.287147</td>\n",
       "      <td>0</td>\n",
       "      <td>WarmUp</td>\n",
       "      <td>82.53</td>\n",
       "    </tr>\n",
       "    <tr>\n",
       "      <th>1</th>\n",
       "      <td>11</td>\n",
       "      <td>-167.872</td>\n",
       "      <td>728.0</td>\n",
       "      <td>0.287147</td>\n",
       "      <td>0</td>\n",
       "      <td>WarmUp</td>\n",
       "      <td>82.42</td>\n",
       "    </tr>\n",
       "    <tr>\n",
       "      <th>2</th>\n",
       "      <td>11</td>\n",
       "      <td>-167.148</td>\n",
       "      <td>724.0</td>\n",
       "      <td>0.287147</td>\n",
       "      <td>0</td>\n",
       "      <td>WarmUp</td>\n",
       "      <td>82.87</td>\n",
       "    </tr>\n",
       "    <tr>\n",
       "      <th>3</th>\n",
       "      <td>11</td>\n",
       "      <td>-166.484</td>\n",
       "      <td>664.0</td>\n",
       "      <td>0.320580</td>\n",
       "      <td>0</td>\n",
       "      <td>WarmUp</td>\n",
       "      <td>90.36</td>\n",
       "    </tr>\n",
       "    <tr>\n",
       "      <th>4</th>\n",
       "      <td>11</td>\n",
       "      <td>-165.836</td>\n",
       "      <td>648.0</td>\n",
       "      <td>0.320580</td>\n",
       "      <td>0</td>\n",
       "      <td>WarmUp</td>\n",
       "      <td>92.59</td>\n",
       "    </tr>\n",
       "    <tr>\n",
       "      <th>...</th>\n",
       "      <td>...</td>\n",
       "      <td>...</td>\n",
       "      <td>...</td>\n",
       "      <td>...</td>\n",
       "      <td>...</td>\n",
       "      <td>...</td>\n",
       "      <td>...</td>\n",
       "    </tr>\n",
       "    <tr>\n",
       "      <th>27598</th>\n",
       "      <td>10</td>\n",
       "      <td>942.700</td>\n",
       "      <td>428.0</td>\n",
       "      <td>0.786363</td>\n",
       "      <td>0</td>\n",
       "      <td>Cool down</td>\n",
       "      <td>140.19</td>\n",
       "    </tr>\n",
       "    <tr>\n",
       "      <th>27599</th>\n",
       "      <td>10</td>\n",
       "      <td>943.124</td>\n",
       "      <td>424.0</td>\n",
       "      <td>0.786363</td>\n",
       "      <td>0</td>\n",
       "      <td>Cool down</td>\n",
       "      <td>141.51</td>\n",
       "    </tr>\n",
       "    <tr>\n",
       "      <th>27600</th>\n",
       "      <td>10</td>\n",
       "      <td>943.552</td>\n",
       "      <td>428.0</td>\n",
       "      <td>0.786363</td>\n",
       "      <td>0</td>\n",
       "      <td>Cool down</td>\n",
       "      <td>140.19</td>\n",
       "    </tr>\n",
       "    <tr>\n",
       "      <th>27601</th>\n",
       "      <td>10</td>\n",
       "      <td>943.976</td>\n",
       "      <td>424.0</td>\n",
       "      <td>0.786363</td>\n",
       "      <td>0</td>\n",
       "      <td>Cool down</td>\n",
       "      <td>141.51</td>\n",
       "    </tr>\n",
       "    <tr>\n",
       "      <th>27602</th>\n",
       "      <td>10</td>\n",
       "      <td>944.404</td>\n",
       "      <td>428.0</td>\n",
       "      <td>0.786363</td>\n",
       "      <td>0</td>\n",
       "      <td>Cool down</td>\n",
       "      <td>140.19</td>\n",
       "    </tr>\n",
       "  </tbody>\n",
       "</table>\n",
       "<p>52062 rows × 7 columns</p>\n",
       "</div>"
      ],
      "text/plain": [
       "       ID     time     RR       VO2  power     Status      hr\n",
       "0      11 -168.600  727.0  0.287147      0     WarmUp   82.53\n",
       "1      11 -167.872  728.0  0.287147      0     WarmUp   82.42\n",
       "2      11 -167.148  724.0  0.287147      0     WarmUp   82.87\n",
       "3      11 -166.484  664.0  0.320580      0     WarmUp   90.36\n",
       "4      11 -165.836  648.0  0.320580      0     WarmUp   92.59\n",
       "...    ..      ...    ...       ...    ...        ...     ...\n",
       "27598  10  942.700  428.0  0.786363      0  Cool down  140.19\n",
       "27599  10  943.124  424.0  0.786363      0  Cool down  141.51\n",
       "27600  10  943.552  428.0  0.786363      0  Cool down  140.19\n",
       "27601  10  943.976  424.0  0.786363      0  Cool down  141.51\n",
       "27602  10  944.404  428.0  0.786363      0  Cool down  140.19\n",
       "\n",
       "[52062 rows x 7 columns]"
      ]
     },
     "execution_count": 4,
     "metadata": {},
     "output_type": "execute_result"
    }
   ],
   "source": [
    "df_join_allsports_copy=df_join_allsports.copy()\n",
    "df_join_allsports_copy['hr'] = round(60/(df_join_allsports['RR']/1000), 2)\n",
    "li_StatusClassification = []\n",
    "for index, row in df_join_allsports_copy.iterrows():\n",
    "    time=row['time']\n",
    "    power=row['power']\n",
    "    if time < 0 :\n",
    "        li_StatusClassification.append(\"WarmUp\")\n",
    "    elif time >= 0 and power != 0:\n",
    "         li_StatusClassification.append(\"Graded Exercise Test\")\n",
    "    else:\n",
    "        li_StatusClassification.append(\"Cool down\")\n",
    "df_join_allsports_copy.insert(5,\"Status\", li_StatusClassification)\n",
    "df_join_allsports_copy"
   ]
  },
  {
   "cell_type": "markdown",
   "id": "7730a8de-0363-4306-becb-8f6767d8d052",
   "metadata": {},
   "source": [
    "### Q15.Assign 1 of the following 5 heart rate zones for every record for all sports and athletes and add this as a column to every table:\n",
    "### Zone 1 (recovery/easy)       <100 HR max\n",
    "### Zone 2 (aerobic/base)        100-120 HR max\n",
    "### Zone 3 (tempo)        120-135 HR max\n",
    "### Zone 4 (lactate threshold)        135-155 HR max\n",
    "### Zone 5 (anaerobic)        155+ HR max and above"
   ]
  },
  {
   "cell_type": "code",
   "execution_count": 12,
   "id": "c3cd7a2a-4f31-42fa-8a26-6968a6707f4a",
   "metadata": {},
   "outputs": [
    {
     "data": {
      "text/html": [
       "<div>\n",
       "<style scoped>\n",
       "    .dataframe tbody tr th:only-of-type {\n",
       "        vertical-align: middle;\n",
       "    }\n",
       "\n",
       "    .dataframe tbody tr th {\n",
       "        vertical-align: top;\n",
       "    }\n",
       "\n",
       "    .dataframe thead th {\n",
       "        text-align: right;\n",
       "    }\n",
       "</style>\n",
       "<table border=\"1\" class=\"dataframe\">\n",
       "  <thead>\n",
       "    <tr style=\"text-align: right;\">\n",
       "      <th></th>\n",
       "      <th>ID</th>\n",
       "      <th>MaxHR</th>\n",
       "      <th>time</th>\n",
       "      <th>hr</th>\n",
       "      <th>HeartZone</th>\n",
       "    </tr>\n",
       "  </thead>\n",
       "  <tbody>\n",
       "    <tr>\n",
       "      <th>0</th>\n",
       "      <td>1</td>\n",
       "      <td>205</td>\n",
       "      <td>-130.840</td>\n",
       "      <td>89.285714</td>\n",
       "      <td>Zone 5</td>\n",
       "    </tr>\n",
       "    <tr>\n",
       "      <th>1</th>\n",
       "      <td>1</td>\n",
       "      <td>205</td>\n",
       "      <td>-130.168</td>\n",
       "      <td>89.285714</td>\n",
       "      <td>Zone 5</td>\n",
       "    </tr>\n",
       "    <tr>\n",
       "      <th>2</th>\n",
       "      <td>1</td>\n",
       "      <td>205</td>\n",
       "      <td>-129.536</td>\n",
       "      <td>94.936709</td>\n",
       "      <td>Zone 5</td>\n",
       "    </tr>\n",
       "    <tr>\n",
       "      <th>3</th>\n",
       "      <td>1</td>\n",
       "      <td>205</td>\n",
       "      <td>-128.824</td>\n",
       "      <td>84.269663</td>\n",
       "      <td>Zone 5</td>\n",
       "    </tr>\n",
       "    <tr>\n",
       "      <th>4</th>\n",
       "      <td>1</td>\n",
       "      <td>205</td>\n",
       "      <td>-127.948</td>\n",
       "      <td>68.493151</td>\n",
       "      <td>Zone 5</td>\n",
       "    </tr>\n",
       "    <tr>\n",
       "      <th>...</th>\n",
       "      <td>...</td>\n",
       "      <td>...</td>\n",
       "      <td>...</td>\n",
       "      <td>...</td>\n",
       "      <td>...</td>\n",
       "    </tr>\n",
       "    <tr>\n",
       "      <th>52057</th>\n",
       "      <td>18</td>\n",
       "      <td>208</td>\n",
       "      <td>947.288</td>\n",
       "      <td>111.940299</td>\n",
       "      <td>Zone 5</td>\n",
       "    </tr>\n",
       "    <tr>\n",
       "      <th>52058</th>\n",
       "      <td>18</td>\n",
       "      <td>208</td>\n",
       "      <td>947.816</td>\n",
       "      <td>113.636364</td>\n",
       "      <td>Zone 5</td>\n",
       "    </tr>\n",
       "    <tr>\n",
       "      <th>52059</th>\n",
       "      <td>18</td>\n",
       "      <td>208</td>\n",
       "      <td>948.344</td>\n",
       "      <td>113.636364</td>\n",
       "      <td>Zone 5</td>\n",
       "    </tr>\n",
       "    <tr>\n",
       "      <th>52060</th>\n",
       "      <td>18</td>\n",
       "      <td>208</td>\n",
       "      <td>948.884</td>\n",
       "      <td>111.111111</td>\n",
       "      <td>Zone 5</td>\n",
       "    </tr>\n",
       "    <tr>\n",
       "      <th>52061</th>\n",
       "      <td>18</td>\n",
       "      <td>208</td>\n",
       "      <td>949.424</td>\n",
       "      <td>111.111111</td>\n",
       "      <td>Zone 5</td>\n",
       "    </tr>\n",
       "  </tbody>\n",
       "</table>\n",
       "<p>52062 rows × 5 columns</p>\n",
       "</div>"
      ],
      "text/plain": [
       "       ID  MaxHR     time          hr HeartZone\n",
       "0       1    205 -130.840   89.285714    Zone 5\n",
       "1       1    205 -130.168   89.285714    Zone 5\n",
       "2       1    205 -129.536   94.936709    Zone 5\n",
       "3       1    205 -128.824   84.269663    Zone 5\n",
       "4       1    205 -127.948   68.493151    Zone 5\n",
       "...    ..    ...      ...         ...       ...\n",
       "52057  18    208  947.288  111.940299    Zone 5\n",
       "52058  18    208  947.816  113.636364    Zone 5\n",
       "52059  18    208  948.344  113.636364    Zone 5\n",
       "52060  18    208  948.884  111.111111    Zone 5\n",
       "52061  18    208  949.424  111.111111    Zone 5\n",
       "\n",
       "[52062 rows x 5 columns]"
      ]
     },
     "execution_count": 12,
     "metadata": {},
     "output_type": "execute_result"
    }
   ],
   "source": [
    "# Calculating Zone using HR_Max with below formula\n",
    "#  (Max HR is calculated as 220-Age)\n",
    "df_Athletes['MaxHR'] = 220-df_Athletes['age']\n",
    "df_join_allsports['hr']=60/(df_join_allsports['RR']/1000)\n",
    "df_tempCategory = pd.merge(df_Athletes[['ID','MaxHR']],df_join_allsports[['time','hr','ID']],on='ID')\n",
    "li_HRClassification = []\n",
    "for index, row in df_tempCategory.iterrows():\n",
    "    tempHR = row[\"MaxHR\"]\n",
    "    if tempHR < 100.0:\n",
    "        li_HRClassification.append(\"Zone 1\")\n",
    "    elif tempHR >= 100.0 and tempHR <= 120.0:\n",
    "        li_HRClassification.append(\"Zone 2\")\n",
    "    elif tempHR >= 120.0 and tempHR <= 135.0:\n",
    "        li_HRClassification.append(\"Zone 3\")\n",
    "    elif tempHR >= 135.0 and tempHR <= 155.0:\n",
    "        li_HRClassification.append(\"Zone 4\")\n",
    "    elif tempHR > 155.0:\n",
    "        li_HRClassification.append(\"Zone 5\")\n",
    "df_tempCategory.insert(4,\"HeartZone\", li_HRClassification, True)\n",
    "df_tempCategory"
   ]
  },
  {
   "cell_type": "code",
   "execution_count": 6,
   "id": "bc7f3cf0-62c6-4d2f-9624-23af9eb0aeea",
   "metadata": {},
   "outputs": [
    {
     "data": {
      "text/html": [
       "<div>\n",
       "<style scoped>\n",
       "    .dataframe tbody tr th:only-of-type {\n",
       "        vertical-align: middle;\n",
       "    }\n",
       "\n",
       "    .dataframe tbody tr th {\n",
       "        vertical-align: top;\n",
       "    }\n",
       "\n",
       "    .dataframe thead th {\n",
       "        text-align: right;\n",
       "    }\n",
       "</style>\n",
       "<table border=\"1\" class=\"dataframe\">\n",
       "  <thead>\n",
       "    <tr style=\"text-align: right;\">\n",
       "      <th></th>\n",
       "      <th>ID</th>\n",
       "      <th>sport</th>\n",
       "      <th>hr</th>\n",
       "      <th>HeartZone</th>\n",
       "    </tr>\n",
       "  </thead>\n",
       "  <tbody>\n",
       "    <tr>\n",
       "      <th>0</th>\n",
       "      <td>1</td>\n",
       "      <td>fencing</td>\n",
       "      <td>89.29</td>\n",
       "      <td>Zone 1</td>\n",
       "    </tr>\n",
       "    <tr>\n",
       "      <th>1</th>\n",
       "      <td>1</td>\n",
       "      <td>fencing</td>\n",
       "      <td>89.29</td>\n",
       "      <td>Zone 1</td>\n",
       "    </tr>\n",
       "    <tr>\n",
       "      <th>2</th>\n",
       "      <td>1</td>\n",
       "      <td>fencing</td>\n",
       "      <td>94.94</td>\n",
       "      <td>Zone 1</td>\n",
       "    </tr>\n",
       "    <tr>\n",
       "      <th>3</th>\n",
       "      <td>1</td>\n",
       "      <td>fencing</td>\n",
       "      <td>84.27</td>\n",
       "      <td>Zone 1</td>\n",
       "    </tr>\n",
       "    <tr>\n",
       "      <th>4</th>\n",
       "      <td>1</td>\n",
       "      <td>fencing</td>\n",
       "      <td>68.49</td>\n",
       "      <td>Zone 1</td>\n",
       "    </tr>\n",
       "    <tr>\n",
       "      <th>...</th>\n",
       "      <td>...</td>\n",
       "      <td>...</td>\n",
       "      <td>...</td>\n",
       "      <td>...</td>\n",
       "    </tr>\n",
       "    <tr>\n",
       "      <th>52057</th>\n",
       "      <td>18</td>\n",
       "      <td>triathlon</td>\n",
       "      <td>111.94</td>\n",
       "      <td>Zone 2</td>\n",
       "    </tr>\n",
       "    <tr>\n",
       "      <th>52058</th>\n",
       "      <td>18</td>\n",
       "      <td>triathlon</td>\n",
       "      <td>113.64</td>\n",
       "      <td>Zone 2</td>\n",
       "    </tr>\n",
       "    <tr>\n",
       "      <th>52059</th>\n",
       "      <td>18</td>\n",
       "      <td>triathlon</td>\n",
       "      <td>113.64</td>\n",
       "      <td>Zone 2</td>\n",
       "    </tr>\n",
       "    <tr>\n",
       "      <th>52060</th>\n",
       "      <td>18</td>\n",
       "      <td>triathlon</td>\n",
       "      <td>111.11</td>\n",
       "      <td>Zone 2</td>\n",
       "    </tr>\n",
       "    <tr>\n",
       "      <th>52061</th>\n",
       "      <td>18</td>\n",
       "      <td>triathlon</td>\n",
       "      <td>111.11</td>\n",
       "      <td>Zone 2</td>\n",
       "    </tr>\n",
       "  </tbody>\n",
       "</table>\n",
       "<p>52062 rows × 4 columns</p>\n",
       "</div>"
      ],
      "text/plain": [
       "       ID      sport      hr HeartZone\n",
       "0       1    fencing   89.29    Zone 1\n",
       "1       1    fencing   89.29    Zone 1\n",
       "2       1    fencing   94.94    Zone 1\n",
       "3       1    fencing   84.27    Zone 1\n",
       "4       1    fencing   68.49    Zone 1\n",
       "...    ..        ...     ...       ...\n",
       "52057  18  triathlon  111.94    Zone 2\n",
       "52058  18  triathlon  113.64    Zone 2\n",
       "52059  18  triathlon  113.64    Zone 2\n",
       "52060  18  triathlon  111.11    Zone 2\n",
       "52061  18  triathlon  111.11    Zone 2\n",
       "\n",
       "[52062 rows x 4 columns]"
      ]
     },
     "execution_count": 6,
     "metadata": {},
     "output_type": "execute_result"
    }
   ],
   "source": [
    "# Calculating Zone using HR\n",
    "df_join_allsports['hr'] = round(60/(df_join_allsports['RR']/1000), 2)\n",
    "df_tempCategory = pd.merge(df_Athletes[['ID', 'sport']],df_join_allsports[['hr', 'ID']],on='ID')\n",
    "li_HRClassification = []\n",
    "def hz_sports(hr):\n",
    "    if hr < 100.0:\n",
    "        return \"Zone 1\"\n",
    "    elif hr >= 100.0 and hr <= 120.0:\n",
    "        return \"Zone 2\"\n",
    "    elif hr >= 120.0 and hr <= 135.0:\n",
    "        return \"Zone 3\"\n",
    "    elif hr >= 135.0 and hr <= 155.0:\n",
    "        return \"Zone 4\"\n",
    "    elif hr > 155.0:\n",
    "        return \"Zone 5\"\n",
    "df_tempCategory['HeartZone'] = df_tempCategory['hr'].apply(hz_sports)\n",
    "df_tempCategory"
   ]
  },
  {
   "cell_type": "markdown",
   "id": "aaf0c6da-ff14-4270-89ca-643e68bae08f",
   "metadata": {},
   "source": [
    "### Q21.Display a pie chart of number of athletes by sport"
   ]
  },
  {
   "cell_type": "code",
   "execution_count": 7,
   "id": "f0c26974-d40c-43f4-90c1-5375998897e4",
   "metadata": {},
   "outputs": [
    {
     "data": {
      "text/plain": [
       "([<matplotlib.patches.Wedge at 0x24dd7467c20>,\n",
       "  <matplotlib.patches.Wedge at 0x24dd747e360>,\n",
       "  <matplotlib.patches.Wedge at 0x24dd742d310>],\n",
       " [Text(-0.1910130855889933, 1.083288512416601, 'fencing'),\n",
       "  Text(-0.19101278131461502, -1.0832885660683653, 'kayak'),\n",
       "  Text(1.0336619699471659, -0.37622191840048963, 'triathlon')])"
      ]
     },
     "execution_count": 7,
     "metadata": {},
     "output_type": "execute_result"
    },
    {
     "data": {
      "image/png": "[encoded data removed]",
      "text/plain": [
       "<Figure size 640x480 with 1 Axes>"
      ]
     },
     "metadata": {},
     "output_type": "display_data"
    }
   ],
   "source": [
    "cnt_of_athletes=df_Athletes['sport'].value_counts()\n",
    "label=df_Athletes['sport'].unique()\n",
    "plt.pie(cnt_of_athletes,hatch=['*O', 'oO', 'O.O'],labels=label)"
   ]
  },
  {
   "cell_type": "markdown",
   "id": "3aacc4a7-c95c-4946-9849-9ef9b067973a",
   "metadata": {},
   "source": [
    "### Q22.Using any 10 HR values print even if the value is an even number and odd if its an odd number"
   ]
  },
  {
   "cell_type": "code",
   "execution_count": 8,
   "id": "e6ecc6fb-53a7-4c72-811a-c2a945c6255a",
   "metadata": {},
   "outputs": [
    {
     "name": "stdout",
     "output_type": "stream",
     "text": [
      "83.0 is an odd number\n",
      "82.0 is an even number\n",
      "83.0 is an odd number\n",
      "90.0 is an even number\n",
      "93.0 is an odd number\n",
      "97.0 is an odd number\n",
      "86.0 is an even number\n",
      "75.0 is an odd number\n",
      "76.0 is an even number\n",
      "78.0 is an even number\n"
     ]
    }
   ],
   "source": [
    "HR_10values=60/(df_Kayaking['RR']/1000).head(10)\n",
    "HR_10values1=HR_10values.round(0)\n",
    "for row_value in HR_10values1:\n",
    "    if row_value%2 == 0:\n",
    "        print(row_value,\"is an even number\")\n",
    "    else:\n",
    "        print(row_value,\"is an odd number\")"
   ]
  },
  {
   "cell_type": "markdown",
   "id": "4be425f3-0a66-4b79-99de-8deded881b22",
   "metadata": {},
   "source": [
    "### Q23.Which heart rate zone did most participants spend the longest duration of time in?"
   ]
  },
  {
   "cell_type": "code",
   "execution_count": 14,
   "id": "e23865cc-bcb3-48e5-9658-003023c403e5",
   "metadata": {},
   "outputs": [
    {
     "data": {
      "text/html": [
       "<div>\n",
       "<style scoped>\n",
       "    .dataframe tbody tr th:only-of-type {\n",
       "        vertical-align: middle;\n",
       "    }\n",
       "\n",
       "    .dataframe tbody tr th {\n",
       "        vertical-align: top;\n",
       "    }\n",
       "\n",
       "    .dataframe thead th {\n",
       "        text-align: right;\n",
       "    }\n",
       "</style>\n",
       "<table border=\"1\" class=\"dataframe\">\n",
       "  <thead>\n",
       "    <tr style=\"text-align: right;\">\n",
       "      <th></th>\n",
       "      <th>ID</th>\n",
       "      <th>sport</th>\n",
       "      <th>hr</th>\n",
       "    </tr>\n",
       "  </thead>\n",
       "  <tbody>\n",
       "    <tr>\n",
       "      <th>0</th>\n",
       "      <td>1</td>\n",
       "      <td>fencing</td>\n",
       "      <td>89.285714</td>\n",
       "    </tr>\n",
       "    <tr>\n",
       "      <th>1</th>\n",
       "      <td>1</td>\n",
       "      <td>fencing</td>\n",
       "      <td>89.285714</td>\n",
       "    </tr>\n",
       "    <tr>\n",
       "      <th>2</th>\n",
       "      <td>1</td>\n",
       "      <td>fencing</td>\n",
       "      <td>94.936709</td>\n",
       "    </tr>\n",
       "    <tr>\n",
       "      <th>3</th>\n",
       "      <td>1</td>\n",
       "      <td>fencing</td>\n",
       "      <td>84.269663</td>\n",
       "    </tr>\n",
       "    <tr>\n",
       "      <th>4</th>\n",
       "      <td>1</td>\n",
       "      <td>fencing</td>\n",
       "      <td>68.493151</td>\n",
       "    </tr>\n",
       "    <tr>\n",
       "      <th>...</th>\n",
       "      <td>...</td>\n",
       "      <td>...</td>\n",
       "      <td>...</td>\n",
       "    </tr>\n",
       "    <tr>\n",
       "      <th>52057</th>\n",
       "      <td>18</td>\n",
       "      <td>triathlon</td>\n",
       "      <td>111.940299</td>\n",
       "    </tr>\n",
       "    <tr>\n",
       "      <th>52058</th>\n",
       "      <td>18</td>\n",
       "      <td>triathlon</td>\n",
       "      <td>113.636364</td>\n",
       "    </tr>\n",
       "    <tr>\n",
       "      <th>52059</th>\n",
       "      <td>18</td>\n",
       "      <td>triathlon</td>\n",
       "      <td>113.636364</td>\n",
       "    </tr>\n",
       "    <tr>\n",
       "      <th>52060</th>\n",
       "      <td>18</td>\n",
       "      <td>triathlon</td>\n",
       "      <td>111.111111</td>\n",
       "    </tr>\n",
       "    <tr>\n",
       "      <th>52061</th>\n",
       "      <td>18</td>\n",
       "      <td>triathlon</td>\n",
       "      <td>111.111111</td>\n",
       "    </tr>\n",
       "  </tbody>\n",
       "</table>\n",
       "<p>52062 rows × 3 columns</p>\n",
       "</div>"
      ],
      "text/plain": [
       "       ID      sport          hr\n",
       "0       1    fencing   89.285714\n",
       "1       1    fencing   89.285714\n",
       "2       1    fencing   94.936709\n",
       "3       1    fencing   84.269663\n",
       "4       1    fencing   68.493151\n",
       "...    ..        ...         ...\n",
       "52057  18  triathlon  111.940299\n",
       "52058  18  triathlon  113.636364\n",
       "52059  18  triathlon  113.636364\n",
       "52060  18  triathlon  111.111111\n",
       "52061  18  triathlon  111.111111\n",
       "\n",
       "[52062 rows x 3 columns]"
      ]
     },
     "execution_count": 14,
     "metadata": {},
     "output_type": "execute_result"
    }
   ],
   "source": [
    "df_tempCategory"
   ]
  },
  {
   "cell_type": "code",
   "execution_count": 13,
   "id": "beda2997-54b1-42e9-a962-c114802daf20",
   "metadata": {},
   "outputs": [
    {
     "ename": "KeyError",
     "evalue": "'HeartZone'",
     "output_type": "error",
     "traceback": [
      "\u001b[1;31m---------------------------------------------------------------------------\u001b[0m",
      "\u001b[1;31mKeyError\u001b[0m                                  Traceback (most recent call last)",
      "Cell \u001b[1;32mIn[13], line 3\u001b[0m\n\u001b[0;32m      1\u001b[0m df_tempCategory \u001b[38;5;241m=\u001b[39m pd\u001b[38;5;241m.\u001b[39mmerge(df_Athletes[[\u001b[38;5;124m'\u001b[39m\u001b[38;5;124mID\u001b[39m\u001b[38;5;124m'\u001b[39m, \u001b[38;5;124m'\u001b[39m\u001b[38;5;124msport\u001b[39m\u001b[38;5;124m'\u001b[39m]],df_join_allsports[[\u001b[38;5;124m'\u001b[39m\u001b[38;5;124mhr\u001b[39m\u001b[38;5;124m'\u001b[39m, \u001b[38;5;124m'\u001b[39m\u001b[38;5;124mID\u001b[39m\u001b[38;5;124m'\u001b[39m]],on\u001b[38;5;241m=\u001b[39m\u001b[38;5;124m'\u001b[39m\u001b[38;5;124mID\u001b[39m\u001b[38;5;124m'\u001b[39m)\n\u001b[0;32m      2\u001b[0m df_tempCategory\n\u001b[1;32m----> 3\u001b[0m d1\u001b[38;5;241m=\u001b[39mdf_tempCategory\u001b[38;5;241m.\u001b[39mgroupby([\u001b[38;5;124m'\u001b[39m\u001b[38;5;124mID\u001b[39m\u001b[38;5;124m'\u001b[39m,\u001b[38;5;124m'\u001b[39m\u001b[38;5;124mHeartZone\u001b[39m\u001b[38;5;124m'\u001b[39m])[\u001b[38;5;124m'\u001b[39m\u001b[38;5;124mtime\u001b[39m\u001b[38;5;124m'\u001b[39m]\u001b[38;5;241m.\u001b[39mmax()\u001b[38;5;241m.\u001b[39mreset_index()\n\u001b[0;32m      4\u001b[0m d1\u001b[38;5;241m.\u001b[39msort_values(by\u001b[38;5;241m=\u001b[39m\u001b[38;5;124m'\u001b[39m\u001b[38;5;124mtime\u001b[39m\u001b[38;5;124m'\u001b[39m,ascending\u001b[38;5;241m=\u001b[39m\u001b[38;5;28;01mFalse\u001b[39;00m)\u001b[38;5;241m.\u001b[39mhead(\u001b[38;5;241m1\u001b[39m)\n",
      "File \u001b[1;32m~\\anaconda3\\Lib\\site-packages\\pandas\\core\\frame.py:9183\u001b[0m, in \u001b[0;36mDataFrame.groupby\u001b[1;34m(self, by, axis, level, as_index, sort, group_keys, observed, dropna)\u001b[0m\n\u001b[0;32m   9180\u001b[0m \u001b[38;5;28;01mif\u001b[39;00m level \u001b[38;5;129;01mis\u001b[39;00m \u001b[38;5;28;01mNone\u001b[39;00m \u001b[38;5;129;01mand\u001b[39;00m by \u001b[38;5;129;01mis\u001b[39;00m \u001b[38;5;28;01mNone\u001b[39;00m:\n\u001b[0;32m   9181\u001b[0m     \u001b[38;5;28;01mraise\u001b[39;00m \u001b[38;5;167;01mTypeError\u001b[39;00m(\u001b[38;5;124m\"\u001b[39m\u001b[38;5;124mYou have to supply one of \u001b[39m\u001b[38;5;124m'\u001b[39m\u001b[38;5;124mby\u001b[39m\u001b[38;5;124m'\u001b[39m\u001b[38;5;124m and \u001b[39m\u001b[38;5;124m'\u001b[39m\u001b[38;5;124mlevel\u001b[39m\u001b[38;5;124m'\u001b[39m\u001b[38;5;124m\"\u001b[39m)\n\u001b[1;32m-> 9183\u001b[0m \u001b[38;5;28;01mreturn\u001b[39;00m DataFrameGroupBy(\n\u001b[0;32m   9184\u001b[0m     obj\u001b[38;5;241m=\u001b[39m\u001b[38;5;28mself\u001b[39m,\n\u001b[0;32m   9185\u001b[0m     keys\u001b[38;5;241m=\u001b[39mby,\n\u001b[0;32m   9186\u001b[0m     axis\u001b[38;5;241m=\u001b[39maxis,\n\u001b[0;32m   9187\u001b[0m     level\u001b[38;5;241m=\u001b[39mlevel,\n\u001b[0;32m   9188\u001b[0m     as_index\u001b[38;5;241m=\u001b[39mas_index,\n\u001b[0;32m   9189\u001b[0m     sort\u001b[38;5;241m=\u001b[39msort,\n\u001b[0;32m   9190\u001b[0m     group_keys\u001b[38;5;241m=\u001b[39mgroup_keys,\n\u001b[0;32m   9191\u001b[0m     observed\u001b[38;5;241m=\u001b[39mobserved,\n\u001b[0;32m   9192\u001b[0m     dropna\u001b[38;5;241m=\u001b[39mdropna,\n\u001b[0;32m   9193\u001b[0m )\n",
      "File \u001b[1;32m~\\anaconda3\\Lib\\site-packages\\pandas\\core\\groupby\\groupby.py:1329\u001b[0m, in \u001b[0;36mGroupBy.__init__\u001b[1;34m(self, obj, keys, axis, level, grouper, exclusions, selection, as_index, sort, group_keys, observed, dropna)\u001b[0m\n\u001b[0;32m   1326\u001b[0m \u001b[38;5;28mself\u001b[39m\u001b[38;5;241m.\u001b[39mdropna \u001b[38;5;241m=\u001b[39m dropna\n\u001b[0;32m   1328\u001b[0m \u001b[38;5;28;01mif\u001b[39;00m grouper \u001b[38;5;129;01mis\u001b[39;00m \u001b[38;5;28;01mNone\u001b[39;00m:\n\u001b[1;32m-> 1329\u001b[0m     grouper, exclusions, obj \u001b[38;5;241m=\u001b[39m get_grouper(\n\u001b[0;32m   1330\u001b[0m         obj,\n\u001b[0;32m   1331\u001b[0m         keys,\n\u001b[0;32m   1332\u001b[0m         axis\u001b[38;5;241m=\u001b[39maxis,\n\u001b[0;32m   1333\u001b[0m         level\u001b[38;5;241m=\u001b[39mlevel,\n\u001b[0;32m   1334\u001b[0m         sort\u001b[38;5;241m=\u001b[39msort,\n\u001b[0;32m   1335\u001b[0m         observed\u001b[38;5;241m=\u001b[39m\u001b[38;5;28;01mFalse\u001b[39;00m \u001b[38;5;28;01mif\u001b[39;00m observed \u001b[38;5;129;01mis\u001b[39;00m lib\u001b[38;5;241m.\u001b[39mno_default \u001b[38;5;28;01melse\u001b[39;00m observed,\n\u001b[0;32m   1336\u001b[0m         dropna\u001b[38;5;241m=\u001b[39m\u001b[38;5;28mself\u001b[39m\u001b[38;5;241m.\u001b[39mdropna,\n\u001b[0;32m   1337\u001b[0m     )\n\u001b[0;32m   1339\u001b[0m \u001b[38;5;28;01mif\u001b[39;00m observed \u001b[38;5;129;01mis\u001b[39;00m lib\u001b[38;5;241m.\u001b[39mno_default:\n\u001b[0;32m   1340\u001b[0m     \u001b[38;5;28;01mif\u001b[39;00m \u001b[38;5;28many\u001b[39m(ping\u001b[38;5;241m.\u001b[39m_passed_categorical \u001b[38;5;28;01mfor\u001b[39;00m ping \u001b[38;5;129;01min\u001b[39;00m grouper\u001b[38;5;241m.\u001b[39mgroupings):\n",
      "File \u001b[1;32m~\\anaconda3\\Lib\\site-packages\\pandas\\core\\groupby\\grouper.py:1043\u001b[0m, in \u001b[0;36mget_grouper\u001b[1;34m(obj, key, axis, level, sort, observed, validate, dropna)\u001b[0m\n\u001b[0;32m   1041\u001b[0m         in_axis, level, gpr \u001b[38;5;241m=\u001b[39m \u001b[38;5;28;01mFalse\u001b[39;00m, gpr, \u001b[38;5;28;01mNone\u001b[39;00m\n\u001b[0;32m   1042\u001b[0m     \u001b[38;5;28;01melse\u001b[39;00m:\n\u001b[1;32m-> 1043\u001b[0m         \u001b[38;5;28;01mraise\u001b[39;00m \u001b[38;5;167;01mKeyError\u001b[39;00m(gpr)\n\u001b[0;32m   1044\u001b[0m \u001b[38;5;28;01melif\u001b[39;00m \u001b[38;5;28misinstance\u001b[39m(gpr, Grouper) \u001b[38;5;129;01mand\u001b[39;00m gpr\u001b[38;5;241m.\u001b[39mkey \u001b[38;5;129;01mis\u001b[39;00m \u001b[38;5;129;01mnot\u001b[39;00m \u001b[38;5;28;01mNone\u001b[39;00m:\n\u001b[0;32m   1045\u001b[0m     \u001b[38;5;66;03m# Add key to exclusions\u001b[39;00m\n\u001b[0;32m   1046\u001b[0m     exclusions\u001b[38;5;241m.\u001b[39madd(gpr\u001b[38;5;241m.\u001b[39mkey)\n",
      "\u001b[1;31mKeyError\u001b[0m: 'HeartZone'"
     ]
    }
   ],
   "source": [
    "df_tempCategory = pd.merge(df_Athletes[['ID', 'sport']],df_join_allsports[['hr', 'ID']],on='ID')\n",
    "df_tempCategory\n",
    "d1=df_tempCategory.groupby(['ID','HeartZone'])['time'].max().reset_index()\n",
    "d1.sort_values(by='time',ascending=False).head(1)"
   ]
  },
  {
   "cell_type": "markdown",
   "id": "627a7bf7-fc53-44c9-96de-0de6f278cc87",
   "metadata": {},
   "source": [
    "### Q24.Store athlete name and sport in a dictionary as a pair of values."
   ]
  },
  {
   "cell_type": "code",
   "execution_count": null,
   "id": "c5649ba3-dcdb-4027-97ec-8ff5e51ddc34",
   "metadata": {},
   "outputs": [],
   "source": [
    "# initialize a dictionary to store values\n",
    "dict_athlete = {}\n",
    "\n",
    "df_Athletes['Full_name'] = df_Athletes['First Name']+ \" \"+ df_Athletes['Last Name'] #Concat the name\n",
    "df_name_sport = pd.DataFrame(df_Athletes, columns=[\"Full_name\",\"sport\"])\n",
    "# read the data and store it in dict\n",
    "for index, row in df_name_sport.iterrows():\n",
    "    dict_athlete[row[\"Full_name\"]] = row[\"sport\"]\n",
    "dict_athlete"
   ]
  },
  {
   "cell_type": "markdown",
   "id": "d1587bd9-717a-44dd-9ffd-ce91ed249e5e",
   "metadata": {},
   "source": [
    "### Q25.Using arrays and loops, find the count of athletes based on gender."
   ]
  },
  {
   "cell_type": "code",
   "execution_count": null,
   "id": "f82389f4-3255-48fc-8d1f-6780104a3287",
   "metadata": {},
   "outputs": [],
   "source": [
    "FemaleCount=0\n",
    "MaleCount=0\n",
    "for index, row in df_Athletes.iterrows():\n",
    "    if row['Gender'] == 'Female':\n",
    "        FemaleCount+=1        \n",
    "    else:\n",
    "        MaleCount+=1\n",
    "\n",
    "print(\"Female\",FemaleCount)\n",
    "print(\"Male\",MaleCount)"
   ]
  },
  {
   "cell_type": "markdown",
   "id": "e1e36498-e48d-4a32-9853-abefc12f4102",
   "metadata": {},
   "source": [
    "### Q26.Create a sankey diagram to show the groups of race within each sport"
   ]
  },
  {
   "cell_type": "code",
   "execution_count": null,
   "id": "548810da-0c5d-4cd7-9746-1e0258aeb687",
   "metadata": {},
   "outputs": [],
   "source": [
    "df_result = df_Athletes.groupby(['sport','Ethnicity'])['ID'].count().reset_index()\n",
    "df_result.columns=['source','target','value']\n",
    "unique_source_target=list(pd.unique(df_result[[\"source\",\"target\"]].values.ravel(\"K\")))\n",
    "mapping_dict={k:v for v, k in enumerate(unique_source_target)}\n",
    "df_result[\"source\"]=df_result[\"source\"].map(mapping_dict)\n",
    "df_result[\"target\"]=df_result[\"target\"].map(mapping_dict)\n",
    "df_result_dict=df_result.to_dict(orient=\"list\")\n",
    "fig = go.Figure(data=[go.Sankey(\n",
    "    node = dict(\n",
    "      pad = 15,\n",
    "      thickness = 20,\n",
    "      line = dict(color = \"black\", width = 0.5),\n",
    "      label = unique_source_target,\n",
    "      color = \"blue\"\n",
    "    ),\n",
    "    \n",
    "    link = dict(\n",
    "      source = df_result_dict[\"source\"],\n",
    "      target = df_result_dict[\"target\"],\n",
    "      value = df_result_dict[\"value\"],\n",
    "      )\n",
    " )])\n",
    "fig.update_layout(title_text=\"Athletes Sankey Diagram\", font_size=10)\n",
    "fig.show()"
   ]
  },
  {
   "cell_type": "markdown",
   "id": "e632e08f-b1bd-4511-82cd-c48cc19fabde",
   "metadata": {},
   "source": [
    "### Q27.Calculate the average heart rate for every minute for every athlete and add it as a column in the same dataframe."
   ]
  },
  {
   "cell_type": "code",
   "execution_count": null,
   "id": "fec57266-44ac-4a6c-bed2-2a9ec1aff265",
   "metadata": {},
   "outputs": [],
   "source": [
    "df_join_allsports['hr']=60/(df_join_allsports['RR']/1000)\n",
    "d1['Avg_HR']=df_join_allsports.groupby(['ID'])['hr'].mean()\n",
    "#df_Athletes.insert(11, \"Avg_HR\",d1['Avg_HR'])\n",
    "df_Athletes"
   ]
  },
  {
   "cell_type": "markdown",
   "id": "ee7fa869-fdb4-43f0-9304-36b554083700",
   "metadata": {},
   "source": [
    "### Q28.Print athlete 15s Age and Pvt1 using the format() function"
   ]
  },
  {
   "cell_type": "code",
   "execution_count": null,
   "id": "bea79d9f-2fe9-40ac-891c-60edafc78c20",
   "metadata": {},
   "outputs": [],
   "source": [
    "id15=df_Athletes.query(\"ID==15\")\n",
    "print('{},{}.'.format(id15['age'],id15['P_vt1']))"
   ]
  },
  {
   "cell_type": "markdown",
   "id": "64901867-7ce1-4aa1-a1ff-968d529835d5",
   "metadata": {},
   "source": [
    "### Q29.On average how long was each participants’ warm up?"
   ]
  },
  {
   "cell_type": "code",
   "execution_count": null,
   "id": "ae717223-ba25-4363-a64f-13ae1c4081a3",
   "metadata": {},
   "outputs": [],
   "source": [
    "Warm_up=df_join_allsports_copy.query(\"Status=='WarmUp'\")\n",
    "each_Id=Warm_up.groupby(['ID'])['time'].mean().reset_index()\n",
    "each_Id"
   ]
  },
  {
   "cell_type": "markdown",
   "id": "2fd8a6e0-d96f-4c0e-b3a5-897ac07480a0",
   "metadata": {},
   "source": [
    "### Q30.Display the HRV of each athlete?"
   ]
  },
  {
   "cell_type": "code",
   "execution_count": null,
   "id": "ba3f43e4-a922-4506-9f3b-f87a4602bc82",
   "metadata": {},
   "outputs": [],
   "source": [
    "new_df = pd.DataFrame()\n",
    "df_ID = df_join_allsports[\"ID\"].unique()\n",
    "for row in df_ID:\n",
    "    df3 = df_join_allsports.query(\"ID==\" + str(row))\n",
    "    df3[['HRV']] = df3[['RR']].diff(periods=1)\n",
    "    frames = [new_df, df3[['ID', 'HRV']]]\n",
    "    new_df = pd.concat(frames, ignore_index=True)\n",
    "df3=new_df.dropna()   \n",
    "df3=df3.groupby('ID').std()\n",
    "print(df3)\n"
   ]
  },
  {
   "cell_type": "markdown",
   "id": "1a436e3b-ac7b-47f3-ba43-964d42c67079",
   "metadata": {},
   "source": [
    "### Q31.Return the count of athletes for any sport that the user inputs."
   ]
  },
  {
   "cell_type": "code",
   "execution_count": null,
   "id": "3845f8df-bc5a-4515-a875-8ddcb8f9d000",
   "metadata": {},
   "outputs": [],
   "source": [
    "user_input = input(\"Enter a Sport Name:\")\n",
    "athletes_cnt=0\n",
    "for index, row in df_Athletes.iterrows():\n",
    "    if row['sport'] == user_input:\n",
    "        athletes_cnt+=1    \n",
    "print(\"Count of athletes:\",athletes_cnt)"
   ]
  },
  {
   "cell_type": "markdown",
   "id": "dcc796bc-ee9b-4f54-b907-fa932d004495",
   "metadata": {},
   "source": [
    "### Q32.Insert the name of every athlete into an array and display the length of that array."
   ]
  },
  {
   "cell_type": "code",
   "execution_count": null,
   "id": "c9c40b85-36f4-46cd-a184-100aec2f985b",
   "metadata": {},
   "outputs": [],
   "source": [
    "athlete_name_arr=[]\n",
    "df_Athletes['Full_name'] = df_Athletes['First Name']+ \" \"+ df_Athletes['Last Name'] #Concat the name\n",
    "for index, row in df_Athletes.iterrows():\n",
    "    athlete_name_arr.append(row['Full_name'])\n",
    "print(\"Display the length of the array: \",len(athlete_name_arr))"
   ]
  },
  {
   "cell_type": "markdown",
   "id": "69bf60f9-e15c-4da6-9d34-c36c3e99c533",
   "metadata": {},
   "source": [
    "### Q33.Create a list and a tuple. Print the types and lengths of both."
   ]
  },
  {
   "cell_type": "code",
   "execution_count": null,
   "id": "b7b66b3a-4215-45eb-a983-881dc7ce3d94",
   "metadata": {},
   "outputs": [],
   "source": [
    "list1=['A','B','C']\n",
    "tuple1=('W','X','Y','Z')\n",
    "print(\"Type of list:\",type(list1), \"Length of List:\",len(list1),\"Type of Tuple:\",type(tuple1),\"Length of Tuple:\",len(tuple1))"
   ]
  },
  {
   "cell_type": "markdown",
   "id": "acf12ac9-b27c-49c6-bd0f-151068c0476b",
   "metadata": {},
   "source": [
    "### Q34.Display a word cloud using any values in the dataset"
   ]
  },
  {
   "cell_type": "code",
   "execution_count": null,
   "id": "9b71de16-47ce-4119-8b3e-c2b04e3116d6",
   "metadata": {},
   "outputs": [],
   "source": [
    "df = df_Athletes\n",
    "text = df['First Name']\n",
    "wordcloud = WordCloud(max_font_size=100,width = 1000, height = 500,background_color='white').generate(str(text))\n",
    "plt.imshow(wordcloud)\n",
    "plt.axis(\"off\")\n",
    "plt.show()"
   ]
  },
  {
   "cell_type": "markdown",
   "id": "aacb0f06-410f-4bad-bb2e-14de904c5b52",
   "metadata": {},
   "source": [
    "### Q35.Create a Regression Plot on Max V02 and mean BMI for any sport of your choice"
   ]
  },
  {
   "cell_type": "code",
   "execution_count": null,
   "id": "127f1dd9-d08c-4992-896d-e93a5f01bc8c",
   "metadata": {},
   "outputs": [],
   "source": [
    "df_Athletes_copy=df_Athletes.copy()\n",
    "#BMI Calculation\n",
    "df_Athletes_copy['BMI']=df_Athletes_copy['Weight']/((df_Athletes_copy['Height']/100)*(df_Athletes_copy['Height']/100))\n",
    "\n",
    "x=[] #vO2\n",
    "y=[] #BMI\n",
    "unique_Id=df_Kayaking['ID'].unique()\n",
    "for i in unique_Id:\n",
    "    se=df_Kayaking[df_Kayaking['ID']==i]\n",
    "    VO2max=se['VO2'].max()\n",
    "    x.append(VO2max)\n",
    "    h1=df_Athletes_copy[df_Athletes['ID']==i]\n",
    "    BMImean=h1['BMI'].mean()\n",
    "    y.append(BMImean)\n",
    "\n",
    "    \n",
    "df2 = pd.DataFrame()\n",
    "df2['x']=x\n",
    "df2['y']=y\n",
    "df2\n",
    "sns.regplot(x=x,y=y,data=df2)\n",
    "#adding labels and title\n",
    "plt.xlabel('Max VO2')\n",
    "plt.ylabel('Mean BMI')\n",
    "plt.title('Regression plot: Max EDA vs. Mean HR')\n",
    "\n",
    "#show the plot\n",
    "plt.show()"
   ]
  },
  {
   "cell_type": "markdown",
   "id": "40c3b20b-a2f6-4117-b577-71a3b88c48ea",
   "metadata": {},
   "source": [
    "### Q36.Plot the time series of HR( every 5 mins) of athlete 1"
   ]
  },
  {
   "cell_type": "code",
   "execution_count": null,
   "id": "65a127fb-206e-45ba-ad29-0f9f9d515939",
   "metadata": {},
   "outputs": [],
   "source": [
    "df_join_allsports['hr']=60/(df_join_allsports['RR']/1000)\n",
    "ID1=df_join_allsports[df_join_allsports['ID']==1]\n",
    "ts=ID1[ID1['time']%5==0]\n",
    "ax=plt.gca()\n",
    "ts.head(10).plot(x='time',\n",
    "                y='hr',\n",
    "                title='Time series of HR( every 5 mins) of ID 1',\n",
    "                color='blue',ax=ax)\n",
    "plt.show()"
   ]
  },
  {
   "cell_type": "markdown",
   "id": "c2130e82-eb75-4998-bd81-1d77817cebef",
   "metadata": {},
   "source": [
    "### Q37.What was the maximum power achieved in terms of watts, which participant achieved it? Display name, sport and watts.¶"
   ]
  },
  {
   "cell_type": "code",
   "execution_count": null,
   "id": "4ec99c18-69cf-47d8-8c8a-67c840c2603d",
   "metadata": {},
   "outputs": [],
   "source": [
    "max_df=df_join_allsports.iloc[df_join_allsports[['power']].idxmax()]\n",
    "pd.merge(df_Athletes[[\"First Name\",\"Last Name\",\"sport\",\"ID\"]],max_df[[\"ID\",\"power\"]], on=\"ID\")"
   ]
  },
  {
   "cell_type": "markdown",
   "id": "b4578521-370b-418f-9748-89251758b3ba",
   "metadata": {},
   "source": [
    "### Q38.What is the average difference in IBI during the warm up Vs the actual test?"
   ]
  },
  {
   "cell_type": "code",
   "execution_count": null,
   "id": "38c73586-e239-4917-8550-849e55aab40b",
   "metadata": {},
   "outputs": [],
   "source": [
    "df_join_allsports_copy['IBI']=df_join_allsports_copy['time'].diff()\n",
    "mean=df_join_allsports_copy.groupby('Status')['IBI'].mean()\n",
    "\n",
    "Avg_Diff=mean['Graded Exercise Test']- mean['WarmUp']\n",
    "print(Avg_Diff)"
   ]
  },
  {
   "cell_type": "markdown",
   "id": "7d293128-e47a-4ca0-9166-ebf1243db37e",
   "metadata": {},
   "source": [
    "### Q39.Print out what's in indexes 7, 10, and 3 for the array in [1, 2, 3, 4, 5,6,7,8,9,10]"
   ]
  },
  {
   "cell_type": "code",
   "execution_count": null,
   "id": "db5009e8-c33b-49fc-afad-f8f75ac46f0a",
   "metadata": {},
   "outputs": [],
   "source": [
    "a = np.array([1, 2, 3, 4, 5, 6, 7, 8, 9, 10])\n",
    "print(a[7])\n",
    "print(a[3])\n",
    "print(a[10])"
   ]
  },
  {
   "cell_type": "markdown",
   "id": "5af5e4ff-1072-4bcb-ad53-0c26d0edf3aa",
   "metadata": {},
   "source": [
    "### Q40.[ 1,  2,  3,  4,  5],\n",
    "       [ 6,  7,  8,  9, 10],\n",
    "       [11, 12, 13, 14, 15],\n",
    "       [16, 17, 18, 19, 20],\n",
    "       [21, 22, 23, 24, 25],\n",
    "       [26, 27, 28, 29, 30]  Use array slicing to display elements 1,3,5. If the value is less than 4 display it as 99\""
   ]
  },
  {
   "cell_type": "code",
   "execution_count": null,
   "id": "9c773ff7-6769-4da3-9bf4-9c02148b3a30",
   "metadata": {},
   "outputs": [],
   "source": [
    "arr = np.array([[ 1,  2,  3,  4,  5],\n",
    "       [ 6,  7,  8,  9, 10],\n",
    "       [11, 12, 13, 14, 15],\n",
    "       [16, 17, 18, 19, 20],\n",
    "       [21, 22, 23, 24, 25],\n",
    "       [26, 27, 28, 29, 30]])\n",
    "\n",
    "my_array=arr[[0,0,0],[0,2,4]]\n",
    "\n",
    "my_array[my_array < 4] = 99\n",
    "my_array"
   ]
  },
  {
   "cell_type": "markdown",
   "id": "1f5acdb4-ef85-4e9c-b8a4-83f22c12eb91",
   "metadata": {},
   "source": [
    "### Q41.What was lowest wattage achieved at the end of a test and by which participant? Display name, sport and watts."
   ]
  },
  {
   "cell_type": "code",
   "execution_count": null,
   "id": "2c7dcc07-1c5c-441f-b6fc-56260757f79d",
   "metadata": {},
   "outputs": [],
   "source": [
    "lowest_wattage=df_join_allsports.groupby('ID')['power'].max().reset_index()\n",
    "df_low_wattage=lowest_wattage.iloc[lowest_wattage[['power']].idxmin()]\n",
    "df_low_wattage\n",
    "pd.merge(df_Athletes[[\"First Name\",\"Last Name\",\"sport\",\"ID\"]],df_low_wattage[[\"ID\",\"power\"]], on=\"ID\")"
   ]
  },
  {
   "cell_type": "markdown",
   "id": "62076a18-08b5-4de5-89fe-5303f5e5a466",
   "metadata": {},
   "source": [
    "### Q42. What was the difference in heart rate between warm up and GET for athlete 1"
   ]
  },
  {
   "cell_type": "code",
   "execution_count": null,
   "id": "88a95cfa-fec0-4280-aae2-8da81b951fda",
   "metadata": {},
   "outputs": [],
   "source": [
    "df_join_allsports_copy\n",
    "ID_1=df_join_allsports_copy.query(\"ID==1 \")\n",
    "diff_in_HR_ID1=ID_1.groupby('Status')['hr'].mean()\n",
    "HRdiff_Ath1=diff_in_HR_ID1['Graded Exercise Test']-diff_in_HR_ID1['WarmUp']\n",
    "HRdiff_Ath1"
   ]
  },
  {
   "cell_type": "markdown",
   "id": "5f9fd813-b894-4222-aca9-deefea1f99c2",
   "metadata": {},
   "source": [
    "### Q43.Create a pivot table that shows count of patients within each age group and sport"
   ]
  },
  {
   "cell_type": "code",
   "execution_count": null,
   "id": "e2f99f64-fff8-46e9-9dbf-aa6eb95cfe60",
   "metadata": {},
   "outputs": [],
   "source": [
    "pivot = pd.pivot_table(\n",
    "    df_Athletes,\n",
    "    values='ID',\n",
    "    columns=('age','sport'),\n",
    "    aggfunc='count'\n",
    ")\n",
    "print(pivot)"
   ]
  },
  {
   "cell_type": "markdown",
   "id": "46eb1ceb-cc41-421a-8031-9153d4fd8078",
   "metadata": {},
   "source": [
    "### Q44.Display a distrubution chart of MAX V02 for all athletes"
   ]
  },
  {
   "cell_type": "code",
   "execution_count": null,
   "id": "6e29673f-1218-4bc7-a1fb-54b0f6f05281",
   "metadata": {},
   "outputs": [],
   "source": [
    "distribution_chart=df_join_allsports.groupby('ID')['VO2'].max()\n",
    "sns.displot(distribution_chart) "
   ]
  },
  {
   "cell_type": "markdown",
   "id": "807628c2-050f-4201-82a6-ed33e690d656",
   "metadata": {},
   "source": [
    "### Q45. Create a dummy array with no data with a size of 15.¶"
   ]
  },
  {
   "cell_type": "code",
   "execution_count": null,
   "id": "647f1771-4a40-41e9-b922-b4ee6194a1a0",
   "metadata": {},
   "outputs": [],
   "source": [
    "dummy_array=np.empty(shape=(15))\n",
    "dummy_array"
   ]
  },
  {
   "cell_type": "markdown",
   "id": "f962f8d7-76b6-4dbc-8069-844287f89311",
   "metadata": {},
   "source": [
    "### Q46. How many minutes did participant 15s exercise last and what was the total V02 max consumed during the test?"
   ]
  },
  {
   "cell_type": "code",
   "execution_count": null,
   "id": "80bce9bd-b2e4-449c-aa78-70eade49c8cb",
   "metadata": {},
   "outputs": [],
   "source": [
    "df_join_allsports_copy['time_minutes']=df_join_allsports_copy['time']/60\n",
    "ID_15=df_join_allsports_copy.query(\"ID==15 & Status=='Graded Exercise Test'\")\n",
    "print(\"Total V02:\",ID_15['VO2'].sum())\n",
    "print(\"VO2 MAX:\",ID_15['VO2'].max())\n",
    "print(\"Total time in minutes:\",ID_15['time_minutes'].max())"
   ]
  },
  {
   "cell_type": "markdown",
   "id": "21366c4e-ffd0-46bf-b270-50a55dc0b632",
   "metadata": {},
   "source": [
    "### Q47.Convert ' sport' into a numeric field through Label encoding"
   ]
  },
  {
   "cell_type": "code",
   "execution_count": null,
   "id": "b5b2d0b2-a635-4182-87c8-5cd18c0ea9b9",
   "metadata": {},
   "outputs": [],
   "source": [
    "\n",
    "le=LabelEncoder()\n",
    "df_Athletes['sport']=le.fit_transform(df_Athletes['sport'])\n",
    "df_Athletes"
   ]
  },
  {
   "cell_type": "markdown",
   "id": "f49d044f-fca2-4742-8ff3-2fdf64cecd5b",
   "metadata": {},
   "source": [
    "### Q48.What was the average age of the athletes?"
   ]
  },
  {
   "cell_type": "code",
   "execution_count": null,
   "id": "9e8a4788-8199-420a-b467-ebc1fdc9706b",
   "metadata": {},
   "outputs": [],
   "source": [
    "Average_age_of_athletes = df_Athletes[\"age\"].mean()\n",
    "Average_age_of_athletes"
   ]
  },
  {
   "cell_type": "markdown",
   "id": "4caa11ea-3414-4e24-85f2-b97fed2894bf",
   "metadata": {},
   "source": [
    "### Q49. Retrieve the row with minimum IBI for fencing athletes using sorting technique.¶"
   ]
  },
  {
   "cell_type": "code",
   "execution_count": null,
   "id": "066480f5-8dd0-4ba2-81fe-81d0b998256c",
   "metadata": {},
   "outputs": [],
   "source": [
    "df_Fencing_copy=df_Fencing.copy()\n",
    "df_Fencing_copy['IBI']=df_Fencing_copy['RR'].diff()\n",
    "sorted_df = df_Fencing_copy.sort_values(by=['IBI'], ascending=True)\n",
    "sorted_df.head(1)"
   ]
  },
  {
   "cell_type": "markdown",
   "id": "464e9121-50c4-4c66-8c6f-4af5d9b3d51b",
   "metadata": {},
   "source": [
    "### Q50. Create a violin chart using any 2 columns in the dataset"
   ]
  },
  {
   "cell_type": "code",
   "execution_count": null,
   "id": "121474c2-28f1-4bbf-afce-f2ec014f1f49",
   "metadata": {},
   "outputs": [],
   "source": [
    "sns.violinplot( x='Ethnicity', y='age',data=df_Athletes)"
   ]
  },
  {
   "cell_type": "markdown",
   "id": "a5f25319-3097-4412-98a0-787f81d66dc5",
   "metadata": {},
   "source": [
    "### Q51. List every athlete’s V02 ml/kg"
   ]
  },
  {
   "cell_type": "code",
   "execution_count": null,
   "id": "0aeace13-7a6e-446a-bc9b-02fd0d9cd2de",
   "metadata": {},
   "outputs": [],
   "source": [
    "vo2_total=df_join_allsports.groupby('ID')['VO2'].sum()\n",
    "df_vo2mlkg = pd.merge(df_Athletes, vo2_total, on=\"ID\")\n",
    "df_vo2mlkg[\"vo2_mlkg\"]=(df_vo2mlkg[\"VO2\"]/df_vo2mlkg[\"Weight\"])\n",
    "print(df_vo2mlkg[[\"ID\",\"vo2_mlkg\"]])"
   ]
  },
  {
   "cell_type": "markdown",
   "id": "959db22c-bdca-4007-ad8f-b3da3740d15e",
   "metadata": {},
   "source": [
    "### Q52. Using all markers of fitness available to you, who is fittest athlete. Write 1-2 lines about the analysis that led to your insight."
   ]
  },
  {
   "cell_type": "code",
   "execution_count": null,
   "id": "39f63343-5254-48d1-9203-ea476c8b6195",
   "metadata": {},
   "outputs": [],
   "source": [
    "first_rows = df_join_allsports.groupby('ID').first()\n",
    "li_fittest_athlete=[]\n",
    "first_merge=pd.merge(df_Athletes,first_rows,on='ID')\n",
    "second_merge=pd.merge(df_Athletes_copy, df_join_allsports,on='ID')\n",
    "df_fitparticipant=pd.merge(first_merge, second_merge,on='ID')\n",
    "\n",
    "for index, row in df_fitparticipant.iterrows():\n",
    "    tempHR = row[\"MaxHR\"]\n",
    "    BMI=row['BMI']\n",
    "    if tempHR > 155.0 & (BMI >= 18.5 and BMI <= 24.9) & (first_rows[hr] >=60 and first_rows[hr] <=100):\n",
    "        li_fittest_athlete.append()\n",
    "print(\"The fittest person is: \", df_fitparticipant['ID'] )\n",
    "    \n",
    "    \n",
    "\n"
   ]
  },
  {
   "cell_type": "markdown",
   "id": "85a2b7d3-9d66-4a3c-99c6-48895f493ab5",
   "metadata": {},
   "source": [
    "### Q53.phonebook={\"john\":938477566,\"Jack\":938377264,\"Jill\":947662781} ,find the phone number of Jill"
   ]
  },
  {
   "cell_type": "code",
   "execution_count": null,
   "id": "166e2fff-4408-4fad-9cca-7f648cc64a01",
   "metadata": {},
   "outputs": [],
   "source": [
    "phonebook={\"john\":938477566,\"Jack\":938377264,\"Jill\":947662781}\n",
    "phonebook['Jill']"
   ]
  },
  {
   "cell_type": "markdown",
   "id": "43969c8e-dacc-418c-bb01-145dc899b779",
   "metadata": {},
   "source": [
    "### Q54. Create a Pie chart for Athletes and explode the widge with Highest V02 kg/ml in and Label by Athlete ID"
   ]
  },
  {
   "cell_type": "code",
   "execution_count": null,
   "id": "2974071a-ff48-489b-b0b9-020c8639f208",
   "metadata": {},
   "outputs": [],
   "source": [
    "athletes=df_join_allsports.groupby('ID')['VO2'].max()\n",
    "label=df_Athletes['ID']\n",
    "##a=athletes.max()\n",
    "##myexplode=a(0.2)\n",
    "myexplode=[0,0,0,0,0,0,0,0,0,0,0,0,0.2,0,0,0,0,0]\n",
    "plt.title('Athletes with Highest VO2')\n",
    "plt.pie(athletes,labels=label,explode=myexplode)"
   ]
  },
  {
   "cell_type": "markdown",
   "id": "3374ab3f-9c56-4117-861c-7ff2bd43db28",
   "metadata": {},
   "source": [
    "### Q55. Using a for loop iterate through HR for all trathletes and display all details of the athlete with the highest heart rate¶"
   ]
  },
  {
   "cell_type": "code",
   "execution_count": null,
   "id": "85b01a20-b7a8-400b-85e3-58f61c640620",
   "metadata": {},
   "outputs": [],
   "source": [
    "df_Triathlon['HR']=60/(df_Triathlon['RR']/1000)\n",
    "d1=df_Triathlon[df_Triathlon['HR'] == df_Triathlon['HR'].max()]\n",
    "merge_table=pd.merge(d1,df_Athletes,on='ID').reset_index()\n",
    "for index, row in df_Triathlon.iterrows():\n",
    "    #print(row['HR'])\n",
    "    if row['HR'] == merge_table.iloc[0]['HR']:\n",
    "         print(merge_table[['ID', 'First Name', 'Last Name', 'age', 'Height', 'Weight','HR','sport', 'Gender', 'Ethnicity']]);"
   ]
  },
  {
   "cell_type": "markdown",
   "id": "03669857-b8f1-447d-975c-0f2d09fc2940",
   "metadata": {},
   "source": [
    "### Q56.Display a histogram to show distribution of athletes by sport."
   ]
  },
  {
   "cell_type": "code",
   "execution_count": null,
   "id": "f9c882d4-5d9d-413a-bf51-743ff793d3c5",
   "metadata": {},
   "outputs": [],
   "source": [
    "sns.displot(df_Athletes, x=\"sport\")"
   ]
  },
  {
   "cell_type": "markdown",
   "id": "15f2f508-be7b-4c39-9e41-9f7d9969ded4",
   "metadata": {},
   "source": [
    "### Q57.get the first letter of last name of students using for loops and RegEX¶"
   ]
  },
  {
   "cell_type": "code",
   "execution_count": null,
   "id": "4b66847a-38d2-4c2c-bed3-cf779b4301f0",
   "metadata": {},
   "outputs": [],
   "source": [
    "lastname = df_Athletes['Last Name']\n",
    "for i in lastname:\n",
    "    firstChar = re.findall(r\"^\\w\", i)\n",
    "    print(firstChar[0])"
   ]
  },
  {
   "cell_type": "markdown",
   "id": "775fce3c-c6c9-4ebd-84c3-696bdbd8caac",
   "metadata": {},
   "source": [
    "### Q58.What is the average % difference in heart rate between warm up and GET for all athletes?"
   ]
  },
  {
   "cell_type": "code",
   "execution_count": null,
   "id": "4568f7a4-b2a3-42a9-b33f-3cc6df38372c",
   "metadata": {},
   "outputs": [],
   "source": [
    "df_join_allsports_HRdiff_copy=df_join_allsports_copy.copy()\n",
    "df_join_allsports_HRdiff_copy['diff']=df_join_allsports_HRdiff_copy['hr'].diff(periods=1)\n",
    "d1=df_join_allsports_HRdiff_copy.groupby('Status')['diff'].mean().reset_index()\n",
    "filter=d1.query(\"Status=='Graded Exercise Test' | Status=='WarmUp'\")\n",
    "avg_perc_Diff=((filter['diff'].sum())/(len(filter['diff'])))*100\n",
    "avg_perc_Diff"
   ]
  },
  {
   "cell_type": "markdown",
   "id": "25aab796-f15b-4ff3-b5fa-bcfa3f64004c",
   "metadata": {},
   "source": [
    "### Q59. Who is the tallest athlete in the dataset. What is his sport and his Vo2 ml/kg?"
   ]
  },
  {
   "cell_type": "code",
   "execution_count": null,
   "id": "3ac6e00f-7dbb-4cda-a5a6-f46398e00833",
   "metadata": {},
   "outputs": [],
   "source": [
    "df_height=df_Athletes[df_Athletes['Height']==df_Athletes['Height'].max()]\n",
    "vo2_total=df_join_allsports.groupby('ID')['VO2'].sum()\n",
    "df_tallest_athlete = pd.merge( df_height, vo2_total, on=\"ID\")\n",
    "df_tallest_athlete[\"vo2_mlkg\"]=(df_tallest_athlete[\"VO2\"]/df_tallest_athlete[\"Weight\"])\n",
    "print(df_tallest_athlete[[\"ID\",\"Height\", \"sport\",\"vo2_mlkg\"]])\n"
   ]
  },
  {
   "cell_type": "markdown",
   "id": "a1244fd2-956e-4269-a3ca-d008185381f2",
   "metadata": {},
   "source": [
    "### Q60. get the last letter of athletes last names using RegEX"
   ]
  },
  {
   "cell_type": "code",
   "execution_count": null,
   "id": "0e356790-b325-4d1e-8d36-47c80efc9e07",
   "metadata": {},
   "outputs": [],
   "source": [
    "lastname = df_Athletes['Last Name']\n",
    "for i in lastname:\n",
    "    lastChar = re.findall(r\"\\w$\", i)\n",
    "    print(lastChar[0])"
   ]
  },
  {
   "cell_type": "markdown",
   "id": "db63c1b3-56d9-49ac-830b-eba14c80041d",
   "metadata": {},
   "source": [
    "### Q61. Reverse an arrays order in Python. You can use any array with any values you like."
   ]
  },
  {
   "cell_type": "code",
   "execution_count": null,
   "id": "0f81ba23-a3c0-40ae-b275-e96a5b648399",
   "metadata": {},
   "outputs": [],
   "source": [
    "# Using slicing method\n",
    "a = [10,20,30,40,50,60]\n",
    "print(\"Actual array :\", a) \n",
    "x = a[::-1]\n",
    "print(\"Reversed Array :\", x)"
   ]
  },
  {
   "cell_type": "markdown",
   "id": "0f89360f-1523-4376-bedb-f0ee11094472",
   "metadata": {},
   "source": [
    "### Q62. What is the root mean of successive differences for 30 consecutive minutes for each athlete."
   ]
  },
  {
   "cell_type": "code",
   "execution_count": null,
   "id": "680572d2-fe49-4b7c-b3fe-b7b66041bee9",
   "metadata": {},
   "outputs": [],
   "source": [
    "df_join_allsports=pd.concat([df_Kayaking, df_Triathlon,df_Fencing])\n",
    "num_of_athletes=18\n",
    "time_interval=1800\n",
    "\n",
    "data = np.random.rand(num_of_athletes, time_interval) * 1000  \n",
    "\n",
    "def root_mean_successive_differences(RR):\n",
    "    num_of_athletes, time_interval = RR.shape\n",
    "    \n",
    "    rmssd_list = []\n",
    "    \n",
    "    for athlete_data in RR:\n",
    "        successive_diffs = np.diff(athlete_data)\n",
    "        squared_diffs = np.square(successive_diffs)\n",
    "        mean_squared_diff = np.mean(squared_diffs)\n",
    "        rmssd = np.sqrt(mean_squared_diff)\n",
    "        rmssd_list.append(rmssd)\n",
    "    return rmssd_list\n",
    "rmssd_values = root_mean_successive_differences(data)\n",
    "\n",
    "#Print the RMSSD for Athletes\n",
    "for i, rmssd in enumerate(rmssd_values):\n",
    "    print(f\"Athlete {i+1}: RMSSD = {rmssd:.2f} milliseconds\")"
   ]
  },
  {
   "cell_type": "markdown",
   "id": "ca81b2e9-9c5b-450b-823b-aa3afd23c810",
   "metadata": {},
   "source": [
    "### Q63. On average how many minutes did each athlete in the sport of fencing spend in Zone 5?"
   ]
  },
  {
   "cell_type": "code",
   "execution_count": null,
   "id": "b60c56ef-9485-450a-8eb2-b1da5c224b44",
   "metadata": {},
   "outputs": [],
   "source": [
    "#store fencing to another dataframe\n",
    "df_Fencing1 = df_Fencing.copy()\n",
    "#print(df_Fencing1)\n",
    "\n",
    "#Calculate hr value, adding hr_zone5 to Fencing1\n",
    "df_Fencing1['hr'] = 60/(df_Fencing1['RR']/1000)\n",
    "#print(df_Fencing1)\n",
    "\n",
    "#Filter for heart rate greater than or equal to 149 and less than or equal to 165\n",
    "hr_zone5 = df_Fencing1[(df_Fencing1['hr'] >= 149) & (df_Fencing1['hr'] <= 165)]\n",
    "#print(hr_zone5)\n",
    "\n",
    "average_hr_zone5 = df_Fencing1.groupby('ID')['time'].mean()\n",
    "#print(average_hr_zone5)\n",
    "\n",
    "#heart rate in minutes\n",
    "hr_zone5_minutes = round(average_hr_zone5/60, 0)\n",
    "print(hr_zone5_minutes)"
   ]
  },
  {
   "cell_type": "markdown",
   "id": "9fb7692f-bc0a-4e9e-a039-067202e0a43e",
   "metadata": {},
   "source": [
    "### Q64. Count athletes based on Gender using count plot"
   ]
  },
  {
   "cell_type": "code",
   "execution_count": null,
   "id": "0a61a167-7c49-4e31-af5d-1abe0b91755a",
   "metadata": {},
   "outputs": [],
   "source": [
    "sns.countplot(x='Gender', data=df_Athletes)\n",
    "plt.title('Count of Athletes based on Gender')\n",
    "plt.show()"
   ]
  },
  {
   "cell_type": "markdown",
   "id": "77efc2cf-2f4f-4bb3-a940-42bec986d1b3",
   "metadata": {},
   "source": [
    "### Q65. [ 1, 2, 3, 4, 5], [ 6, 7, 8, 9, 10], [11, 12, 13, 14, 15], [16, 17, 18, 19, 20], [21, 22, 23, 24, 25],[26, 27, 28, 29, 30] Use array slicing to display elements 4,7,10,17.\""
   ]
  },
  {
   "cell_type": "code",
   "execution_count": null,
   "id": "3835a649-ff54-409f-88a6-523bff490c8d",
   "metadata": {},
   "outputs": [],
   "source": [
    "arr= np.array([[ 1, 2, 3, 4, 5], \n",
    "              [ 6, 7, 8, 9, 10], \n",
    "              [11, 12, 13, 14, 15], \n",
    "              [16, 17, 18, 19, 20],\n",
    "              [21, 22, 23, 24, 25], \n",
    "              [26, 27, 28, 29, 30]])\n",
    "elements = arr[[0, 1, 1, 3], [3, 1, 4,1 ]]\n",
    "print(elements)"
   ]
  },
  {
   "cell_type": "markdown",
   "id": "6650a228-42af-48f9-a3c3-23d218c85552",
   "metadata": {},
   "source": [
    "### Q66. On average, how long did each participant spend at 200 watts?"
   ]
  },
  {
   "cell_type": "code",
   "execution_count": null,
   "id": "e3f2b01d-b422-4e0f-a7bc-535f05c452b9",
   "metadata": {},
   "outputs": [],
   "source": [
    "df_join_allsports=pd.concat([df_Kayaking, df_Triathlon,df_Fencing])\n",
    "df_200 = df_join_allsports[df_join_allsports['power'] == 200]\n",
    "\n",
    "average_per_participant = df_200.groupby('ID')['time'].mean()\n",
    "print(average_per_participant)"
   ]
  },
  {
   "cell_type": "markdown",
   "id": "6cfc151a-af57-492f-9a16-2fcfcb610dd2",
   "metadata": {},
   "source": [
    "### Q67. Athletes from which sport had the highest average cardiorespiratory fitness in terms of v02 max?"
   ]
  },
  {
   "cell_type": "code",
   "execution_count": null,
   "id": "14d8e0c0-603b-4e87-9690-78831bf71f2b",
   "metadata": {},
   "outputs": [],
   "source": [
    "#Calculate Vo2_max\n",
    "vo2_max_K = round(df_Kayaking.groupby('ID')['VO2'].sum(), 1)/df_Athletes['Weight']\n",
    "#print(vo2_max_K)\n",
    "vo2_max_T = round(df_Triathlon.groupby('ID')['VO2'].sum(), 1)/df_Athletes['Weight']\n",
    "#print(vo2_max_T)\n",
    "vo2_max_F = round(df_Fencing.groupby('ID')['VO2'].sum(), 1)/df_Athletes['Weight']\n",
    "#print(vo2_max_F)\n",
    "\n",
    "# Calculate Average\n",
    "vo2_K_avg = round(vo2_max_K.mean(), 1)\n",
    "print(vo2_K_avg)\n",
    "vo2_T_avg = round(vo2_max_T.mean(), 1)\n",
    "print(vo2_T_avg)\n",
    "vo2_F_avg = round(vo2_max_F.mean(), 1)\n",
    "print(vo2_F_avg)\n",
    "\n",
    "if (vo2_K_avg > vo2_T_avg) and (vo2_K_avg > vo2_F_avg):\n",
    "    print(\"Kayaking Atheles have highest cardiorespiratory fitness\")\n",
    "elif (vo2_T_avg > vo2_K_avg) and (vo2_T_avg > vo2_F_avg):\n",
    "    print(\"Triathalon Atheles have highest cardiorespiratory fitness\")\n",
    "else:\n",
    "    print(\"Triathalon Atheles have highest cardiorespiratory fitness\")"
   ]
  },
  {
   "cell_type": "markdown",
   "id": "1d899aef-3229-44e1-b73e-75b8abf577d9",
   "metadata": {},
   "source": [
    "### Q68. What % of athletes exceeded 90% of max HR? (Max HR is calculated as 220-Age"
   ]
  },
  {
   "cell_type": "code",
   "execution_count": null,
   "id": "753c7a8a-e451-4cc2-a92a-3881ef5b7edb",
   "metadata": {},
   "outputs": [],
   "source": [
    "df_Athletes1 = df_Athletes.copy()\n",
    "#print(df_Athletes1)\n",
    "\n",
    "df_Athletes1['maxHR'] = 220 - df_Athletes1['age']\n",
    "#print(df_Athletes1)\n",
    "df_Athletes1['Ninetypercent_maxhr'] = df_Athletes1['maxHR'] * 0.9\n",
    "# If maxHr > 198, as 90% 0f 220 is 198.\n",
    "df_Ath_maxhr = df_Athletes1[df_Athletes1['maxHR'] > df_Athletes1['Ninetypercent_maxhr']]\n",
    "number_of_Athletes = len(df_Ath_maxhr)\n",
    "#print(number_of_Athletes)\n",
    "\n",
    "# Percentage of athletes exceeded 90% of max HR\n",
    "df_percent = ((number_of_Athletes/len(df_Athletes1))*100)\n",
    "print(df_percent)"
   ]
  },
  {
   "cell_type": "markdown",
   "id": "6414adb7-7a08-4d98-85f8-1f157ba4f447",
   "metadata": {},
   "source": [
    "### Q69. What was the lowest heart rate recorded at a power wattage of 200"
   ]
  },
  {
   "cell_type": "code",
   "execution_count": null,
   "id": "ff24bf40-8e74-436c-ad6e-a84ea2814ba2",
   "metadata": {},
   "outputs": [],
   "source": [
    "df_join_allsports=pd.concat([df_Kayaking, df_Triathlon,df_Fencing])\n",
    "df_join_allsports['hr'] = round(60/(df_join_allsports['RR']/1000), 2)\n",
    "\n",
    "df_lowest_hr = df_join_allsports[df_join_allsports['power'] == 200]\n",
    "#print(df2)\n",
    "print(df_lowest_hr['hr'].min())"
   ]
  },
  {
   "cell_type": "markdown",
   "id": "0eb443e3-1457-4146-b738-b23190292bee",
   "metadata": {},
   "source": [
    "### Q70. On Average how long did most athletes spend at 75% of MaxHR (Max HR is calculated as 220-Age)"
   ]
  },
  {
   "cell_type": "code",
   "execution_count": null,
   "id": "82b749f8-fafb-40f0-a125-2670a45a4020",
   "metadata": {},
   "outputs": [],
   "source": [
    "df_join_allsports=pd.concat([df_Kayaking, df_Triathlon,df_Fencing])\n",
    "df_Athletes1 = df_Athletes.copy()\n",
    "#print(df_Athletes1)\n",
    "\n",
    "df_Athletes1['maxHR'] = 220 - df_Athletes1['age']\n",
    "df_Athletes1['seventyfive_maxhr'] = df_Athletes1['maxHR'] * 0.75\n",
    "#print(df_Athletes1)\n",
    "\n",
    "\n",
    "\n",
    "#extract Seventyfive_maxhr from df_Athletes1\n",
    "sf_maxhr = df_Athletes1['seventyfive_maxhr']\n",
    "#display(sf_maxhr)\n",
    "\n",
    "#Insert sf_maxhr into df2\n",
    "df_join_allsports.insert(1, \"SFmaxhr\", sf_maxhr)\n",
    "#display(df2)\n",
    "\n",
    "#Average time spent in hours by athletes at 75% of MaxHR\n",
    "Avg_time = round(df_join_allsports.groupby('ID')['time'].mean()/60, 1)\n",
    "print(Avg_time)"
   ]
  },
  {
   "cell_type": "markdown",
   "id": "a7829156-245c-4522-947f-f28c7d249b88",
   "metadata": {},
   "source": [
    "### Q71.  Create a crosstab to show each sport as a column and each heart rate zone as rows with counts of rows that satisfy each condition as values"
   ]
  },
  {
   "cell_type": "code",
   "execution_count": null,
   "id": "ee533097-1da2-46ab-a8a1-0cc6eb95b6d9",
   "metadata": {},
   "outputs": [],
   "source": [
    "df_join_allsports['hr'] = round(60/(df_join_allsports['RR']/1000), 2)\n",
    "df_tempCategory = pd.merge(df_Athletes[['ID', 'sport']],df_join_allsports[['hr', 'ID']],on='ID')\n",
    "li_HRClassification = []\n",
    "def hz_sports(hr):\n",
    "    if hr < 100.0:\n",
    "        return \"Zone 1\"\n",
    "    elif hr >= 100.0 and hr <= 120.0:\n",
    "        return \"Zone 2\"\n",
    "    elif hr >= 120.0 and hr <= 135.0:\n",
    "        return \"Zone 3\"\n",
    "    elif hr >= 135.0 and hr <= 155.0:\n",
    "        return \"Zone 4\"\n",
    "    elif hr > 155.0:\n",
    "        return \"Zone 5\"\n",
    "\n",
    "df_tempCategory['HeartZone'] = df_tempCategory['hr'].apply(hz_sports)\n",
    "df_tempCategory\n",
    "# Create the crosstab \n",
    "ctab = pd.crosstab(df_tempCategory['HeartZone'], df_tempCategory['sport'])\n",
    "print(ctab)"
   ]
  },
  {
   "cell_type": "markdown",
   "id": "cf30b0e0-731d-409b-b960-00ae013c4809",
   "metadata": {},
   "source": [
    "### Q72. Provide an example of a lambda function that multiplies any 2 input values."
   ]
  },
  {
   "cell_type": "code",
   "execution_count": null,
   "id": "7fd9ae06-766a-401f-9d30-d98e30247ae9",
   "metadata": {},
   "outputs": [],
   "source": [
    "lam_mult = lambda p, q: p*q\n",
    "\n",
    "p = int(input(\"Enter value for p: \"))\n",
    "q = int(input(\"Enter value for q: \"))\n",
    "\n",
    "product = lam_mult(p, q)\n",
    "print(product)"
   ]
  },
  {
   "cell_type": "markdown",
   "id": "89f26aa3-e460-4320-b3cd-293da0920b2e",
   "metadata": {},
   "source": [
    "### Q73. How long was athlete 17s warm up"
   ]
  },
  {
   "cell_type": "code",
   "execution_count": null,
   "id": "62b43578-02db-4b1a-8c41-ed78fda8d842",
   "metadata": {},
   "outputs": [],
   "source": [
    "df_join_allsports=pd.concat([df_Kayaking, df_Triathlon,df_Fencing])\n",
    "\n",
    "#Storing values of Athlete 17 in a separate dataframe\n",
    "dfAthlete17 = df_join_allsports[df_join_allsports[\"ID\"] == 17]\n",
    "\n",
    "\n",
    "#Creating Lambda function to calculate sum of negative values\n",
    "def neg(col):\n",
    "    return col[col <0].sum()\n",
    "length_of_warmup = dfAthlete17['time'].loc[dfAthlete17['time'] < 0].sum()\n",
    "\n",
    "#Duration in hours\n",
    "Duration_in_hours = round(length_of_warmup/3600, 0)\n",
    "print(\"Duration of warmup of Athlete 17 : \", Duration_in_hours)"
   ]
  },
  {
   "cell_type": "markdown",
   "id": "ad91d7c1-b8d8-4483-b994-27a5199e8ac4",
   "metadata": {},
   "source": [
    "### Q74. Take a students full name and reverse it using a for loop"
   ]
  },
  {
   "cell_type": "code",
   "execution_count": null,
   "id": "503806d4-da88-41e1-bcf0-c69834ec1694",
   "metadata": {},
   "outputs": [],
   "source": [
    "def fullname(first,last):\n",
    "    return first + \" \" + last\n",
    "    \n",
    "first = input(\"Enter first name: \")\n",
    "last = input(\"Enter last name: \")\n",
    "fullname(first, last)\n",
    "print(first, last)\n",
    "\n",
    "#storing value of function in variable\n",
    "fname = fullname(first, last)\n",
    "\n",
    "#Reverse the Fullname\n",
    "def reverse(fname):\n",
    "    rev_name = \"\"\n",
    "    for i in fname:\n",
    "        rev_name = i + rev_name\n",
    "    return rev_name\n",
    "\n",
    "reverse(fname)"
   ]
  },
  {
   "cell_type": "markdown",
   "id": "1a6d934e-8ebf-4ad6-ab8f-28686f4a630b",
   "metadata": {},
   "source": [
    "### Q75. What was the maximum heart rate recorded during the test. Which athlete did it belong to? Display name, sport and HR"
   ]
  },
  {
   "cell_type": "code",
   "execution_count": null,
   "id": "f2050434-6b98-4686-a7d4-2e380d622c46",
   "metadata": {},
   "outputs": [],
   "source": [
    "df_join_allsports['hr']=60/(df_join_allsports['RR']/1000)\n",
    "df_maxhr=df_join_allsports[df_join_allsports['hr'] == df_join_allsports['hr'].max()]\n",
    "df_maxhr_details=df_Athletes.merge(df_maxhr)\n",
    "df_maxhr_details[['First Name', 'Last Name','sport','hr']]"
   ]
  },
  {
   "cell_type": "markdown",
   "id": "b2e589ff-8944-4344-9d9c-5b13805ba757",
   "metadata": {},
   "source": [
    "### Q76. np.arange(1,31).reshape(6,5),find array slicing to get the elements 2,5,13,25,30."
   ]
  },
  {
   "cell_type": "code",
   "execution_count": null,
   "id": "9a6725a2-c499-4098-97f3-e4ad2bdf6659",
   "metadata": {},
   "outputs": [],
   "source": [
    "arr_76 = np.arange(1,31).reshape(6,5)\n",
    "#print(arr_76)\n",
    "\n",
    "Elements_76 = [arr_76[0,1], arr_76[0,4], arr_76[2,2], arr_76[4,4], arr_76[5,4]]\n",
    "print(\"Elements : \", Elements_76)"
   ]
  },
  {
   "cell_type": "markdown",
   "id": "e7f487c0-3501-46b0-a354-48b32bd187c2",
   "metadata": {},
   "source": [
    "### Q77. Display a violin chart to show distribution of VO2Max against age."
   ]
  },
  {
   "cell_type": "code",
   "execution_count": null,
   "id": "ebb2d5c5-b4b4-499f-9b3c-63f299266a1b",
   "metadata": {},
   "outputs": [],
   "source": [
    "df_join_allsports=pd.concat([df_Kayaking, df_Triathlon,df_Fencing])\n",
    "df_join_allsports['VO2Max'] = round(df_join_allsports.groupby('ID')['VO2'].sum(), 1)/df_Athletes.set_index('ID')['Weight']\n",
    "#print(df_join_allsports)\n",
    "\n",
    "df_violin=pd.merge(df_join_allsports, df_Athletes, on= 'ID', how= 'inner')\n",
    "#print(df_violin)\n",
    "\n",
    "sns.violinplot( x='age', y='VO2Max',data=df_violin)\n",
    "plt.title('Distribution of VO2Max against age')"
   ]
  },
  {
   "cell_type": "markdown",
   "id": "eca9ea48-f290-40c3-9ef2-e18c77f8628d",
   "metadata": {},
   "source": [
    "### Q78. Create a heatmap that show heart rate zones by minutes and the number of athletes in each HR and each minute."
   ]
  },
  {
   "cell_type": "code",
   "execution_count": null,
   "id": "e2c0ee45-51aa-491c-8e9e-980af7173bfe",
   "metadata": {},
   "outputs": [],
   "source": [
    "df_join_allsports['hr'] = round(60/(df_join_allsports['RR']/1000), 2)\n",
    "df_tempCategory = pd.merge(df_Athletes[['ID', 'sport']],df_join_allsports[['hr', 'ID']],on='ID')\n",
    "li_HRClassification = []\n",
    "def hz_sports(hr):\n",
    "    if hr < 100.0:\n",
    "        return \"Zone 1\"\n",
    "    elif hr >= 100.0 and hr <= 120.0:\n",
    "        return \"Zone 2\"\n",
    "    elif hr >= 120.0 and hr <= 135.0:\n",
    "        return \"Zone 3\"\n",
    "    elif hr >= 135.0 and hr <= 155.0:\n",
    "        return \"Zone 4\"\n",
    "    elif hr > 155.0:\n",
    "        return \"Zone 5\"\n",
    "df_tempCategory['HeartZone'] = df_tempCategory['hr'].apply(hz_sports)\n",
    "df_tempCategory\n",
    "hm_data = df_tempCategory.pivot_table(index='sport', columns='HeartZone', values='hr', aggfunc='mean')\n",
    "sns.heatmap(hm_data, annot=True, cmap='YlGnBu', linewidths=.5)\n",
    "\n",
    "plt.title('Average Heart Rate by Sport and Zone')\n",
    "plt.xlabel('Heart Rate Zone')\n",
    "plt.ylabel('Sport')\n",
    "plt.show()"
   ]
  },
  {
   "cell_type": "markdown",
   "id": "962dfb22-d6a5-4557-8ed3-c537e8733bfd",
   "metadata": {},
   "source": [
    "### Q79. Plot the Donut chart athlete distrubution by Gender"
   ]
  },
  {
   "cell_type": "code",
   "execution_count": null,
   "id": "c281fb61-3839-4320-8bea-c27326022744",
   "metadata": {},
   "outputs": [],
   "source": [
    "# colors\n",
    "colors = ['#FF0000', '#FFFF00']\n",
    "# explosion\n",
    "#explode = (0.05, 0.05)\n",
    "\n",
    "gender_count = df_Athletes['Gender'].value_counts()\n",
    "\n",
    "plt.pie(gender_count, colors=colors, labels=gender_count.index,\n",
    "        autopct='%1.1f%%', pctdistance=0.85)\n",
    " \n",
    "# draw circle\n",
    "centre_circle = plt.Circle((0, 0), 0.70, fc='white')\n",
    "fig = plt.gcf()\n",
    " \n",
    "# Adding Circle in Pie chart\n",
    "fig.gca().add_artist(centre_circle)\n",
    " \n",
    "# Adding Title of chart\n",
    "plt.title('Athlete Distribution by Gender')\n",
    " \n",
    "# Displaying Chart\n",
    "plt.show()"
   ]
  },
  {
   "cell_type": "markdown",
   "id": "f72cc12f-8576-4af2-a421-15c0d928b2cd",
   "metadata": {},
   "source": [
    "### Q80. Find the size of Tuple for any given input"
   ]
  },
  {
   "cell_type": "code",
   "execution_count": null,
   "id": "f1cff283-6f26-4452-b764-d2c2afa2a4b1",
   "metadata": {},
   "outputs": [],
   "source": [
    "tup_sports = (\"Kayaking\", \"Triathlon\", \"Fencing\")\n",
    "print(\"Size of tup_spotrs is\", len(tup_sports))"
   ]
  },
  {
   "cell_type": "code",
   "execution_count": null,
   "id": "2654d3a0-64bb-46e3-8b16-77fa16a85877",
   "metadata": {},
   "outputs": [],
   "source": []
  }
 ],
 "metadata": {
  "kernelspec": {
   "display_name": "Python 3 (ipykernel)",
   "language": "python",
   "name": "python3"
  },
  "language_info": {
   "codemirror_mode": {
    "name": "ipython",
    "version": 3
   },
   "file_extension": ".py",
   "mimetype": "text/x-python",
   "name": "python",
   "nbconvert_exporter": "python",
   "pygments_lexer": "ipython3",
   "version": "3.12.4"
  }
 },
 "nbformat": 4,
 "nbformat_minor": 5
}
